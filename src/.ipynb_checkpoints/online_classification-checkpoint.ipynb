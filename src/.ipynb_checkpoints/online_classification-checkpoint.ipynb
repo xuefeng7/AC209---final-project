{
 "cells": [
  {
   "cell_type": "code",
   "execution_count": 9,
   "metadata": {},
   "outputs": [],
   "source": [
    "import keras\n",
    "import keras.backend as K\n",
    "from keras.models import Sequential, Model\n",
    "from keras.layers import Input, Dense, Dropout, Activation, \\\n",
    "    Flatten, Lambda, LSTM, RepeatVector, TimeDistributed, Reshape, \\\n",
    "    Conv2D, MaxPooling2D, BatchNormalization, ConvLSTM2D, Bidirectional, Masking\n",
    "import numpy as np\n",
    "import h5py\n",
    "from sklearn.model_selection import train_test_split\n",
    "from keras.utils.np_utils import to_categorical\n",
    "from sklearn.preprocessing import scale"
   ]
  },
  {
   "cell_type": "code",
   "execution_count": 3,
   "metadata": {
    "collapsed": true
   },
   "outputs": [],
   "source": [
    "data = h5py.File(\"../dataset/data_sample.hdf5\", \"r\")\n",
    "images = data[\"images\"][:]\n",
    "labels = data[\"labels\"][:]\n",
    "\n",
    "def scale_images(images):\n",
    "    t_images = np.transpose(images, (0,3,1,2))\n",
    "    rt_images = t_images.reshape(72000*48, 21, 21)\n",
    "    max_per_img = np.max(rt_images.reshape(-1, 21*21), axis=1, keepdims=1)\n",
    "    scaled_images = rt_images.reshape(-1, 21*21) / max_per_img\n",
    "    scaled_images = scaled_images.reshape(-1, 21, 21).reshape(-1, 48, 21, 21)\n",
    "    return scaled_images\n",
    "\n",
    "def txt2digit(labels):\n",
    "    dic = {'Asteroids':0, 'Constant':1, 'EmptyLigh':2, 'M33Cephei':3, 'RRLyrae':4, 'Supernova':5}\n",
    "    labels_digit = np.array([dic[i] for i in labels])\n",
    "    return labels_digit\n",
    "\n",
    "\n",
    "def build_dataset(images, labels, seq2seq=False):\n",
    "    \n",
    "    train_indices = np.random.choice(np.arange(images.shape[0]), int( 0.7 * images.shape[0]))\n",
    "    val_indices = list(set(np.arange(images.shape[0])) - set(train_indices))\n",
    "    \n",
    "    x = images\n",
    "    x = np.expand_dims(x, len(x.shape))\n",
    "    y = to_categorical(txt2digit(labels))\n",
    "    \n",
    "    if seq2seq:\n",
    "        y = np.repeat(y, 48).reshape(-1, 48, 6)\n",
    "    \n",
    "    return x, y\n",
    "\n",
    "\n",
    "x, y = build_dataset(scale_images(images), labels)"
   ]
  },
  {
   "cell_type": "code",
   "execution_count": 26,
   "metadata": {
    "collapsed": true
   },
   "outputs": [],
   "source": [
    "def init_rcnn_stateful(cnn_input_dim=21, cnn_output_dim=128, cnn_dropout=0.25,\n",
    "               rnn_hidden_dim=128, num_classes=6, rnn_dropout=0.5, timestep=48,\n",
    "               bidir_mode='concat'):\n",
    "    \n",
    "    input_shape = (1, 1, cnn_input_dim, cnn_input_dim, 1)\n",
    "    \n",
    "    model = Sequential()\n",
    "    \n",
    "    model.add(TimeDistributed(Conv2D(48, (4,4), \\\n",
    "                     padding='same', activation='relu', kernel_initializer='uniform'), batch_input_shape=input_shape))\n",
    "    model.add(TimeDistributed(MaxPooling2D((3,3), strides=(1,1))))\n",
    "    \n",
    "    model.add(TimeDistributed(Conv2D(24, (3,3), padding='same', activation='relu', kernel_initializer='uniform')))\n",
    "    model.add(TimeDistributed(MaxPooling2D((3,3), strides=(1,1))))\n",
    "\n",
    "    model.add(TimeDistributed(Conv2D(12, (3,3), padding='same', activation='relu', kernel_initializer='uniform')))\n",
    "    model.add(TimeDistributed(MaxPooling2D((3,3), strides=(1,1))))\n",
    "    \n",
    "    model.add(TimeDistributed(Flatten()))\n",
    "\n",
    "    model.add(TimeDistributed(Dense(cnn_output_dim, activation='relu')))\n",
    "    model.add(Dropout(cnn_dropout))\n",
    "    \n",
    "    model.add(Bidirectional(LSTM(rnn_hidden_dim, dropout=rnn_dropout, return_sequences=True, stateful=True)))\n",
    "    model.add(Bidirectional(LSTM(rnn_hidden_dim, dropout=rnn_dropout, stateful=True)))\n",
    "    \n",
    "    model.add(Dense(6, activation='softmax'))\n",
    "    \n",
    "    return model"
   ]
  },
  {
   "cell_type": "code",
   "execution_count": 11,
   "metadata": {
    "collapsed": true
   },
   "outputs": [],
   "source": [
    "def init_rcnn_masking(cnn_input_dim=21, cnn_output_dim=128, cnn_dropout=0.5,\n",
    "               rnn_hidden_dim=128, num_classes=6, rnn_dropout=0.5, timestep=48,\n",
    "               bidir_mode='concat'):\n",
    "    \n",
    "    input_shape = (timestep, cnn_input_dim, cnn_input_dim, 1)\n",
    "    \n",
    "    model = Sequential()\n",
    "    \n",
    "    model.add(TimeDistributed(Masking(mask_value=0.0), input_shape=input_shape, name='Masking'))\n",
    "    model.add(TimeDistributed(Conv2D(48, (4,4), \\\n",
    "                     padding='same', activation='relu', kernel_initializer='uniform'), \\\n",
    "                              input_shape=input_shape, name='Conv2D_1'))\n",
    "    model.add(TimeDistributed(MaxPooling2D((3,3), strides=(1,1)), name='MaxPooling2D_1'))\n",
    "    \n",
    "    model.add(TimeDistributed(Conv2D(24, (3,3), padding='same', activation='relu', kernel_initializer='uniform'),\\\n",
    "                 name='Conv2D_2'))\n",
    "    model.add(TimeDistributed(MaxPooling2D((3,3), strides=(1,1)), name='MaxPooling2D_2'))\n",
    "\n",
    "    model.add(TimeDistributed(Conv2D(12, (3,3), padding='same', activation='relu', kernel_initializer='uniform'), \\\n",
    "                             name='Conv2D_3'))\n",
    "    model.add(TimeDistributed(MaxPooling2D((3,3), strides=(1,1)), name='MaxPooling2D_3'))\n",
    "    \n",
    "    model.add(TimeDistributed(Flatten(), name='Flatten'))\n",
    "\n",
    "    model.add(TimeDistributed(Dense(cnn_output_dim, activation='relu'), name='Dense_128'))\n",
    "    model.add(Dropout(cnn_dropout))\n",
    "    \n",
    "    model.add(Bidirectional(LSTM(rnn_hidden_dim, dropout=rnn_dropout, return_sequences=True, name='LSTM_1')))\n",
    "    model.add(Bidirectional(LSTM(rnn_hidden_dim, dropout=rnn_dropout, name='LSTM_2')))\n",
    "    model.add(Dense(6, activation='softmax', name='Output_Dense'))\n",
    "    \n",
    "    return model"
   ]
  },
  {
   "cell_type": "code",
   "execution_count": 33,
   "metadata": {},
   "outputs": [],
   "source": [
    "class online_classifier:\n",
    "    \n",
    "    def __init__(self, trained_model, mode):\n",
    "        \"\"\"\n",
    "        Initializer. Pass in trained model and mode (\"stateful\" or \"masking\")\n",
    "        \"\"\"\n",
    "        if mode == 'stateful':\n",
    "            self.model = init_rcnn_stateful()\n",
    "        elif mode == 'masking':\n",
    "            self.model = init_rcnn_masking()\n",
    "            \n",
    "        weights = trained_model.get_weights()\n",
    "        self.model.set_weights(weights)\n",
    "        self.mode = mode\n",
    "        self.data = np.zeros((48,21,21))\n",
    "        self.epoch = 0\n",
    "        self.predictions = []\n",
    "        self.labels = ['Asteroids', 'Constant', 'EmptyLigh', 'M33Cephei', 'RRLyrae', 'Supernova']\n",
    "        self.pred = ''\n",
    "        \n",
    "    def upload_image(self, image):\n",
    "        \"\"\"\n",
    "        Upload an image of shape (1,21,21)\n",
    "        \"\"\"\n",
    "        self.data[self.epoch:self.epoch+1,:,:] = image\n",
    "        \n",
    "        if self.mode == 'stateful':\n",
    "            prob = self.model.predict(self.data[self.epoch,:,:].reshape([1,1,21,21,1]))[0]\n",
    "        if self.mode == 'masking':\n",
    "            prob = self.model.predict(self.data.reshape(1,48,21,21,1))[0]\n",
    "        self.predictions.append(prob)\n",
    "        pred_idx = np.argmax(prob)\n",
    "        self.pred = self.labels[pred_idx]\n",
    "        self.epoch += 1\n",
    "        \n",
    "    def predict(self):\n",
    "        \"\"\"\n",
    "        Show current prediction and class probabilities history.\n",
    "        \"\"\"\n",
    "        \n",
    "        print('Prediction: %s (with %f probability)' %(self.pred, max(self.predictions[-1])))\n",
    "        \n",
    "        import matplotlib.pyplot as plt\n",
    "        import seaborn as sns\n",
    "        x= range(1, len(self.predictions)+1)\n",
    "        y= np.array(self.predictions).T\n",
    "        \n",
    "        sns.set_palette(\"RdBu_r\", 6)\n",
    "        plt.stackplot(x,y, labels=self.labels, cmap=sns.dark_palette(\"palegreen\", as_cmap=True))\n",
    "        plt.legend(loc='right', bbox_to_anchor=(1.25, 0.5), ncol=1)\n",
    "        plt.xlabel('Epoch')\n",
    "        plt.ylabel('Class Probabilities')\n",
    "        plt.show()\n",
    "        return self.pred, self.predictions\n",
    "    \n",
    "    def reset(self):\n",
    "        \"\"\"\n",
    "        Reset to epoch 1. All predictions and data will be removed.\n",
    "        \"\"\"\n",
    "        self.epoch = 0\n",
    "        self.predictions = []\n",
    "        self.pred = ''\n",
    "        self.data = np.zeros((48,21,21))"
   ]
  },
  {
   "cell_type": "code",
   "execution_count": 7,
   "metadata": {},
   "outputs": [],
   "source": [
    "# Load trained model\n",
    "model = keras.models.load_model('saved_models/rcnn_ep175.hdf5')"
   ]
  },
  {
   "cell_type": "code",
   "execution_count": 55,
   "metadata": {},
   "outputs": [],
   "source": [
    "# Initialize online classifier\n",
    "clf = online_classifier(model, 'masking')"
   ]
  },
  {
   "cell_type": "code",
   "execution_count": 74,
   "metadata": {},
   "outputs": [
    {
     "name": "stdout",
     "output_type": "stream",
     "text": [
      "True label:  M33Cephei\n"
     ]
    }
   ],
   "source": [
    "# Choose an image\n",
    "index = 3\n",
    "img = x[index,:,:,:,:].reshape((48,21,21))\n",
    "print('True label: ', labels[index])"
   ]
  },
  {
   "cell_type": "code",
   "execution_count": 73,
   "metadata": {},
   "outputs": [
    {
     "name": "stdout",
     "output_type": "stream",
     "text": [
      "Prediction: M33Cephei (with 0.975222 probability)\n"
     ]
    },
    {
     "data": {
      "image/png": "[encoded data removed]",
      "text/plain": [
       "<matplotlib.figure.Figure at 0x1a382d1da0>"
      ]
     },
     "metadata": {},
     "output_type": "display_data"
    }
   ],
   "source": [
    "# Upload 10 epochs and predict\n",
    "clf.reset()\n",
    "for i in range(48):\n",
    "    clf.upload_image(img[i,:,:].reshape(-1,21,21))\n",
    "pred, history = clf.predict()"
   ]
  }
 ],
 "metadata": {
  "kernelspec": {
   "display_name": "Python 3",
   "language": "python",
   "name": "python3"
  },
  "language_info": {
   "codemirror_mode": {
    "name": "ipython",
    "version": 3
   },
   "file_extension": ".py",
   "mimetype": "text/x-python",
   "name": "python",
   "nbconvert_exporter": "python",
   "pygments_lexer": "ipython3",
   "version": "3.6.1"
  }
 },
 "nbformat": 4,
 "nbformat_minor": 2
}
