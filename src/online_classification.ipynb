{
 "cells": [
  {
   "cell_type": "code",
   "execution_count": 11,
   "metadata": {},
   "outputs": [],
   "source": [
    "import keras\n",
    "import keras.backend as K\n",
    "from keras.models import Sequential, Model\n",
    "from keras.layers import Input, Dense, Dropout, Activation, \\\n",
    "    Flatten, Lambda, LSTM, RepeatVector, TimeDistributed, Reshape, \\\n",
    "    Conv2D, MaxPooling2D, BatchNormalization, ConvLSTM2D, Bidirectional\n",
    "import numpy as np\n",
    "import h5py\n",
    "from sklearn.model_selection import train_test_split\n",
    "from keras.utils.np_utils import to_categorical\n",
    "from sklearn.preprocessing import scale"
   ]
  },
  {
   "cell_type": "code",
   "execution_count": 47,
   "metadata": {},
   "outputs": [],
   "source": [
    "data = h5py.File(\"../dataset/data_sample.hdf5\", \"r\")\n",
    "images = data[\"images\"][:]\n",
    "labels = data[\"labels\"][:]\n",
    "\n",
    "def scale_images(images):\n",
    "    t_images = np.transpose(images, (0,3,1,2))\n",
    "    rt_images = t_images.reshape(72000*48, 21, 21)\n",
    "    max_per_img = np.max(rt_images.reshape(-1, 21*21), axis=1, keepdims=1)\n",
    "    scaled_images = rt_images.reshape(-1, 21*21) / max_per_img\n",
    "    scaled_images = scaled_images.reshape(-1, 21, 21).reshape(-1, 48, 21, 21)\n",
    "    return scaled_images\n",
    "\n",
    "def txt2digit(labels):\n",
    "    dic = {'Asteroids':0, 'Constant':1, 'EmptyLigh':2, 'M33Cephei':3, 'RRLyrae':4, 'Supernova':5}\n",
    "    labels_digit = np.array([dic[i] for i in labels])\n",
    "    return labels_digit\n",
    "\n",
    "\n",
    "def build_dataset(images, labels, seq2seq=False):\n",
    "    \n",
    "    train_indices = np.random.choice(np.arange(images.shape[0]), int( 0.7 * images.shape[0]))\n",
    "    val_indices = list(set(np.arange(images.shape[0])) - set(train_indices))\n",
    "    \n",
    "    x = images\n",
    "    x = np.expand_dims(x, len(x.shape))\n",
    "    y = to_categorical(txt2digit(labels))\n",
    "    \n",
    "    if seq2seq:\n",
    "        y = np.repeat(y, 48).reshape(-1, 48, 6)\n",
    "    \n",
    "    return x, y\n",
    "\n",
    "\n",
    "x, y = build_dataset(scale_images(images), labels)"
   ]
  },
  {
   "cell_type": "code",
   "execution_count": 96,
   "metadata": {
    "collapsed": true
   },
   "outputs": [],
   "source": [
    "def init_model3(cnn_input_dim=21, cnn_output_dim=128, cnn_dropout=0.5,\n",
    "               rnn_hidden_dim=128, rnn_output_dim=64, num_classes=6, rnn_dropout=0.5, timestep=48,\n",
    "               bidir_mode='concat'):\n",
    "    \n",
    "    input_shape = (timestep, cnn_input_dim, cnn_input_dim, 1, )\n",
    "    \n",
    "    model = Sequential()\n",
    "    \n",
    "    model.add(TimeDistributed(Conv2D(48, (4,4), \\\n",
    "                     padding='same', activation='relu', kernel_initializer='uniform'), input_shape=input_shape))\n",
    "    model.add(TimeDistributed(MaxPooling2D((3,3), strides=(1,1))))\n",
    "    \n",
    "    model.add(TimeDistributed(Conv2D(24, (3,3), padding='same', activation='relu', kernel_initializer='uniform')))\n",
    "    model.add(TimeDistributed(MaxPooling2D((3,3), strides=(1,1))))\n",
    "\n",
    "    model.add(TimeDistributed(Conv2D(12, (3,3), padding='same', activation='relu', kernel_initializer='uniform')))\n",
    "    model.add(TimeDistributed(MaxPooling2D((3,3), strides=(1,1))))\n",
    "    \n",
    "    model.add(TimeDistributed(Flatten()))\n",
    "\n",
    "    model.add(TimeDistributed(Dense(128, activation='relu')))\n",
    "    model.add(Dropout(0.25))\n",
    "    \n",
    "    model.add(LSTM(rnn_hidden_dim, dropout=rnn_dropout, return_sequences=True))\n",
    "    model.add(LSTM(rnn_hidden_dim, dropout=rnn_dropout))\n",
    "    \n",
    "    model.add(Dense(6, activation='softmax'))\n",
    "    \n",
    "    return model"
   ]
  },
  {
   "cell_type": "code",
   "execution_count": 101,
   "metadata": {
    "collapsed": true
   },
   "outputs": [],
   "source": [
    "def init_model3_predict(cnn_input_dim=21, cnn_output_dim=128, cnn_dropout=0.5,\n",
    "               rnn_hidden_dim=128, rnn_output_dim=64, num_classes=6, rnn_dropout=0.5, timestep=48,\n",
    "               bidir_mode='concat'):\n",
    "    \n",
    "    input_shape = (1, 1, cnn_input_dim, cnn_input_dim, 1)\n",
    "    \n",
    "    model = Sequential()\n",
    "    \n",
    "    model.add(TimeDistributed(Conv2D(48, (4,4), \\\n",
    "                     padding='same', activation='relu', kernel_initializer='uniform'), batch_input_shape=input_shape))\n",
    "    model.add(TimeDistributed(MaxPooling2D((3,3), strides=(1,1))))\n",
    "    \n",
    "    model.add(TimeDistributed(Conv2D(24, (3,3), padding='same', activation='relu', kernel_initializer='uniform')))\n",
    "    model.add(TimeDistributed(MaxPooling2D((3,3), strides=(1,1))))\n",
    "\n",
    "    model.add(TimeDistributed(Conv2D(12, (3,3), padding='same', activation='relu', kernel_initializer='uniform')))\n",
    "    model.add(TimeDistributed(MaxPooling2D((3,3), strides=(1,1))))\n",
    "    \n",
    "    model.add(TimeDistributed(Flatten()))\n",
    "\n",
    "    model.add(TimeDistributed(Dense(128, activation='relu')))\n",
    "    model.add(Dropout(0.25))\n",
    "    \n",
    "    model.add(LSTM(rnn_hidden_dim, dropout=rnn_dropout, return_sequences=True, stateful=True))\n",
    "    model.add(LSTM(rnn_hidden_dim, dropout=rnn_dropout, stateful=True))\n",
    "    \n",
    "    model.add(Dense(6, activation='softmax'))\n",
    "    \n",
    "    return model"
   ]
  },
  {
   "cell_type": "code",
   "execution_count": 118,
   "metadata": {},
   "outputs": [],
   "source": [
    "model = init_model3()\n",
    "model.compile(optimizer=keras.optimizers.Adam(lr=0.0001),\n",
    "              loss='categorical_crossentropy',\n",
    "              metrics=['accuracy'])"
   ]
  },
  {
   "cell_type": "code",
   "execution_count": 119,
   "metadata": {},
   "outputs": [
    {
     "name": "stdout",
     "output_type": "stream",
     "text": [
      "Train on 80 samples, validate on 20 samples\n",
      "Epoch 1/10\n",
      "80/80 [==============================] - 13s 161ms/step - loss: 1.7985 - acc: 0.1625 - val_loss: 1.7831 - val_acc: 0.2000\n",
      "Epoch 2/10\n",
      "80/80 [==============================] - 9s 113ms/step - loss: 1.7923 - acc: 0.2000 - val_loss: 1.7780 - val_acc: 0.1000\n",
      "Epoch 3/10\n",
      "80/80 [==============================] - 9s 113ms/step - loss: 1.7892 - acc: 0.1750 - val_loss: 1.7779 - val_acc: 0.1000\n",
      "Epoch 4/10\n",
      "80/80 [==============================] - 12s 145ms/step - loss: 1.7871 - acc: 0.2000 - val_loss: 1.7687 - val_acc: 0.1000\n",
      "Epoch 5/10\n",
      "80/80 [==============================] - 9s 116ms/step - loss: 1.7853 - acc: 0.2000 - val_loss: 1.7597 - val_acc: 0.1000\n",
      "Epoch 6/10\n",
      "80/80 [==============================] - 9s 116ms/step - loss: 1.7905 - acc: 0.1875 - val_loss: 1.7727 - val_acc: 0.1000\n",
      "Epoch 7/10\n",
      "80/80 [==============================] - 9s 112ms/step - loss: 1.7854 - acc: 0.2000 - val_loss: 1.7793 - val_acc: 0.1000\n",
      "Epoch 8/10\n",
      "80/80 [==============================] - 9s 113ms/step - loss: 1.8023 - acc: 0.1875 - val_loss: 1.7682 - val_acc: 0.1000\n",
      "Epoch 9/10\n",
      "80/80 [==============================] - 9s 115ms/step - loss: 1.7903 - acc: 0.1875 - val_loss: 1.7447 - val_acc: 0.3000\n",
      "Epoch 10/10\n",
      "80/80 [==============================] - 9s 112ms/step - loss: 1.7900 - acc: 0.1750 - val_loss: 1.7627 - val_acc: 0.1000\n"
     ]
    },
    {
     "data": {
      "text/plain": [
       "<keras.callbacks.History at 0x1d12ee5cf8>"
      ]
     },
     "execution_count": 119,
     "metadata": {},
     "output_type": "execute_result"
    }
   ],
   "source": [
    "model.fit(x[:100], y[:100],\n",
    "              batch_size=10,\n",
    "              epochs=10,\n",
    "              validation_split=0.2,\n",
    "              shuffle=True)"
   ]
  },
  {
   "cell_type": "code",
   "execution_count": 121,
   "metadata": {},
   "outputs": [
    {
     "data": {
      "text/plain": [
       "array([1, 1, 1, 1, 1, 1, 1, 1, 1, 1, 1, 1, 1, 1, 1, 1, 1, 1, 1, 1, 1, 1,\n",
       "       1, 1, 1, 1, 1, 1, 1, 1, 1, 1, 1, 1, 1, 1, 1, 1, 1, 1, 1, 1, 1, 1,\n",
       "       1, 1, 1, 1, 1, 1, 1, 1, 1, 1, 1, 1, 1, 1, 1, 1, 1, 1, 1, 1, 1, 1,\n",
       "       1, 1, 1, 1, 1, 1, 1, 1, 1, 1, 1, 1, 1, 1, 1, 1, 1, 1, 1, 1, 1, 1,\n",
       "       1, 1, 1, 1, 1, 1, 1, 1, 1, 1, 1, 1])"
      ]
     },
     "execution_count": 121,
     "metadata": {},
     "output_type": "execute_result"
    }
   ],
   "source": [
    "model.predict_classes(x[:100])"
   ]
  },
  {
   "cell_type": "code",
   "execution_count": 98,
   "metadata": {},
   "outputs": [],
   "source": [
    "# model = keras.models.load_model('../src/saved_model/model3_bdir=concat_epoch=175.h5')"
   ]
  },
  {
   "cell_type": "code",
   "execution_count": 107,
   "metadata": {},
   "outputs": [],
   "source": [
    "weights = model.get_weights()"
   ]
  },
  {
   "cell_type": "code",
   "execution_count": 108,
   "metadata": {},
   "outputs": [],
   "source": [
    "model_pred = init_model3_predict()"
   ]
  },
  {
   "cell_type": "code",
   "execution_count": 109,
   "metadata": {
    "collapsed": true
   },
   "outputs": [],
   "source": [
    "model_pred.set_weights(weights)"
   ]
  },
  {
   "cell_type": "code",
   "execution_count": 110,
   "metadata": {},
   "outputs": [
    {
     "name": "stdout",
     "output_type": "stream",
     "text": [
      "1 1\n",
      "1 3\n",
      "1 3\n",
      "1 3\n",
      "1 0\n",
      "1 1\n",
      "1 2\n",
      "1 1\n",
      "1 1\n",
      "1 5\n"
     ]
    },
    {
     "data": {
      "text/plain": [
       "4"
      ]
     },
     "execution_count": 110,
     "metadata": {},
     "output_type": "execute_result"
    }
   ],
   "source": [
    "count = 0\n",
    "for ind in range(10):\n",
    "    model_pred.reset_states()\n",
    "    \n",
    "    for i in range(48):\n",
    "        pred = model_pred.predict_classes(x[ind,i,:,:,:].reshape([1,1,21,21,1]))[0]\n",
    "    print(pred, dic[labels[ind]])\n",
    "    if pred == dic[labels[ind]]:\n",
    "        count += 1\n",
    "        \n",
    "count"
   ]
  },
  {
   "cell_type": "code",
   "execution_count": 88,
   "metadata": {},
   "outputs": [
    {
     "name": "stdout",
     "output_type": "stream",
     "text": [
      "[[[0.         0.00377904 0.0051192  ... 0.         0.01647188 0.        ]\n",
      "  [0.         0.02305488 0.02058041 ... 0.         0.03521    0.        ]\n",
      "  [0.         0.05396858 0.05998888 ... 0.         0.10102537 0.        ]\n",
      "  ...\n",
      "  [0.         0.2064439  0.06123681 ... 0.08804832 0.19757879 0.        ]\n",
      "  [0.         0.05900613 0.03091917 ... 0.         0.07952505 0.        ]\n",
      "  [0.         0.08889082 0.03178672 ... 0.         0.11033916 0.        ]]]\n"
     ]
    }
   ],
   "source": [
    "target_layer = model.layers[-4]\n",
    "outputs = target_layer(target_layer.get_input_at(0))\n",
    "m = Model(model.input, outputs)\n",
    "print(m.predict(x[0,:,:,:,:].reshape(1,48,21,21,1)))"
   ]
  },
  {
   "cell_type": "code",
   "execution_count": 86,
   "metadata": {},
   "outputs": [
    {
     "name": "stdout",
     "output_type": "stream",
     "text": [
      "[[[0.00000000e+00 8.88908356e-02 3.17867287e-02 1.29932418e-01\n",
      "   0.00000000e+00 0.00000000e+00 0.00000000e+00 1.20437920e-01\n",
      "   0.00000000e+00 2.90362798e-02 1.31032214e-01 0.00000000e+00\n",
      "   0.00000000e+00 1.72065571e-04 7.86366984e-02 0.00000000e+00\n",
      "   0.00000000e+00 0.00000000e+00 6.54033646e-02 1.03466939e-02\n",
      "   0.00000000e+00 0.00000000e+00 1.28941357e-01 1.09472297e-01\n",
      "   0.00000000e+00 0.00000000e+00 0.00000000e+00 6.82674125e-02\n",
      "   0.00000000e+00 0.00000000e+00 7.76161700e-02 0.00000000e+00\n",
      "   8.35586637e-02 9.71488506e-02 0.00000000e+00 0.00000000e+00\n",
      "   9.46407989e-02 0.00000000e+00 1.11906074e-01 0.00000000e+00\n",
      "   1.02425069e-01 1.58406958e-01 8.27663541e-02 0.00000000e+00\n",
      "   7.34841228e-02 0.00000000e+00 0.00000000e+00 0.00000000e+00\n",
      "   9.28718820e-02 3.36131416e-02 0.00000000e+00 0.00000000e+00\n",
      "   0.00000000e+00 9.92306471e-02 0.00000000e+00 9.84795168e-02\n",
      "   4.13722023e-02 5.98364286e-02 0.00000000e+00 0.00000000e+00\n",
      "   0.00000000e+00 2.48822957e-01 0.00000000e+00 9.15393978e-02\n",
      "   0.00000000e+00 0.00000000e+00 0.00000000e+00 2.33073339e-01\n",
      "   2.89243627e-02 7.33463168e-02 0.00000000e+00 0.00000000e+00\n",
      "   0.00000000e+00 0.00000000e+00 0.00000000e+00 0.00000000e+00\n",
      "   0.00000000e+00 0.00000000e+00 0.00000000e+00 0.00000000e+00\n",
      "   6.74476624e-02 1.00781471e-01 0.00000000e+00 0.00000000e+00\n",
      "   6.39427751e-02 0.00000000e+00 0.00000000e+00 0.00000000e+00\n",
      "   0.00000000e+00 0.00000000e+00 0.00000000e+00 2.87680980e-02\n",
      "   0.00000000e+00 7.33038709e-02 0.00000000e+00 7.81093091e-02\n",
      "   0.00000000e+00 0.00000000e+00 0.00000000e+00 2.49847308e-01\n",
      "   0.00000000e+00 0.00000000e+00 0.00000000e+00 0.00000000e+00\n",
      "   0.00000000e+00 0.00000000e+00 0.00000000e+00 0.00000000e+00\n",
      "   0.00000000e+00 0.00000000e+00 1.08101875e-01 0.00000000e+00\n",
      "   9.09139737e-02 0.00000000e+00 0.00000000e+00 0.00000000e+00\n",
      "   6.72571659e-02 0.00000000e+00 0.00000000e+00 2.44923204e-01\n",
      "   0.00000000e+00 2.21721396e-01 6.00765869e-02 0.00000000e+00\n",
      "   2.49229193e-01 0.00000000e+00 1.10339180e-01 0.00000000e+00]]]\n"
     ]
    }
   ],
   "source": [
    "target_layer = model_pred.layers[-4]\n",
    "outputs = target_layer(target_layer.get_input_at(0))\n",
    "m = Model(model_pred.input, outputs)\n",
    "for i in range(48):\n",
    "    pred = m.predict(x[0,i,:,:,:].reshape(1,1,21,21,1))\n",
    "    \n",
    "print(pred)"
   ]
  },
  {
   "cell_type": "code",
   "execution_count": 82,
   "metadata": {},
   "outputs": [
    {
     "data": {
      "text/plain": [
       "<tf.Tensor 'time_distributed_69_1/Reshape_1:0' shape=(?, 48, 128) dtype=float32>"
      ]
     },
     "execution_count": 82,
     "metadata": {},
     "output_type": "execute_result"
    }
   ],
   "source": [
    "target_layer.get_input_at(1)"
   ]
  },
  {
   "cell_type": "code",
   "execution_count": 48,
   "metadata": {},
   "outputs": [
    {
     "data": {
      "text/plain": [
       "array([1, 3, 3, 3, 0, 1, 2, 1, 1, 5])"
      ]
     },
     "execution_count": 48,
     "metadata": {},
     "output_type": "execute_result"
    }
   ],
   "source": [
    "model.predict_classes(x[:10])"
   ]
  },
  {
   "cell_type": "code",
   "execution_count": 55,
   "metadata": {},
   "outputs": [
    {
     "data": {
      "text/plain": [
       "(1, 1, 21, 21, 1)"
      ]
     },
     "execution_count": 55,
     "metadata": {},
     "output_type": "execute_result"
    }
   ],
   "source": [
    "x[0,0,:,:,:].reshape(1,1,21,21,1).shape"
   ]
  },
  {
   "cell_type": "code",
   "execution_count": 49,
   "metadata": {},
   "outputs": [
    {
     "name": "stdout",
     "output_type": "stream",
     "text": [
      "\r",
      "10/10 [==============================] - 1s 90ms/step\n"
     ]
    },
    {
     "data": {
      "text/plain": [
       "[0.009157541207969189, 1.0]"
      ]
     },
     "execution_count": 49,
     "metadata": {},
     "output_type": "execute_result"
    }
   ],
   "source": [
    "model.evaluate(x[:10], y[:10])"
   ]
  },
  {
   "cell_type": "code",
   "execution_count": 35,
   "metadata": {},
   "outputs": [
    {
     "data": {
      "text/plain": [
       "'Constant'"
      ]
     },
     "execution_count": 35,
     "metadata": {},
     "output_type": "execute_result"
    }
   ],
   "source": [
    "labels[0]"
   ]
  },
  {
   "cell_type": "code",
   "execution_count": 3,
   "metadata": {},
   "outputs": [
    {
     "data": {
      "text/plain": [
       "'2.1.6'"
      ]
     },
     "execution_count": 3,
     "metadata": {},
     "output_type": "execute_result"
    }
   ],
   "source": [
    "model = Model(input=input, output=net)\n",
    "\n",
    "model.fit(...)\n",
    "\n",
    "w = model.get_weights()\n",
    "net = Dense(1)(SimpleRNN(stateful=True)(input))\n",
    "model = Model(input=input, output=net)\n",
    "model.set_weights(w)"
   ]
  },
  {
   "cell_type": "code",
   "execution_count": 16,
   "metadata": {},
   "outputs": [
    {
     "name": "stdout",
     "output_type": "stream",
     "text": [
      "Password:\n"
     ]
    }
   ],
   "source": [
    "!sudo pip3 install --upgrade tensorflow"
   ]
  },
  {
   "cell_type": "code",
   "execution_count": null,
   "metadata": {
    "collapsed": true
   },
   "outputs": [],
   "source": []
  }
 ],
 "metadata": {
  "kernelspec": {
   "display_name": "Python 3",
   "language": "python",
   "name": "python3"
  },
  "language_info": {
   "codemirror_mode": {
    "name": "ipython",
    "version": 3
   },
   "file_extension": ".py",
   "mimetype": "text/x-python",
   "name": "python",
   "nbconvert_exporter": "python",
   "pygments_lexer": "ipython3",
   "version": "3.6.1"
  }
 },
 "nbformat": 4,
 "nbformat_minor": 2
}
