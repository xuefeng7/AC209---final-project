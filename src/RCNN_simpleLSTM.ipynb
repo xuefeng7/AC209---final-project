{
 "cells": [
  {
   "cell_type": "code",
   "execution_count": 1,
   "metadata": {},
   "outputs": [
    {
     "name": "stderr",
     "output_type": "stream",
     "text": [
      "/Users/gzq/anaconda/lib/python3.6/site-packages/h5py/__init__.py:34: FutureWarning: Conversion of the second argument of issubdtype from `float` to `np.floating` is deprecated. In future, it will be treated as `np.float64 == np.dtype(float).type`.\n",
      "  from ._conv import register_converters as _register_converters\n",
      "Using TensorFlow backend.\n",
      "/Users/gzq/anaconda/lib/python3.6/importlib/_bootstrap.py:205: RuntimeWarning: compiletime version 3.5 of module 'tensorflow.python.framework.fast_tensor_util' does not match runtime version 3.6\n",
      "  return f(*args, **kwds)\n"
     ]
    }
   ],
   "source": [
    "import keras\n",
    "import keras.backend as K\n",
    "from keras.models import Sequential, Model\n",
    "from keras.layers import Input, Dense, Dropout, Activation, \\\n",
    "    Flatten, Lambda, LSTM, RepeatVector, TimeDistributed, Reshape, \\\n",
    "    Conv2D, MaxPooling2D, BatchNormalization, ConvLSTM2D, Bidirectional\n",
    "import numpy as np\n",
    "import h5py\n",
    "from sklearn.model_selection import train_test_split\n",
    "from keras.utils.np_utils import to_categorical\n",
    "from sklearn.preprocessing import scale\n",
    "\n",
    "import matplotlib.pyplot as plt\n",
    "import seaborn as sns\n",
    "sns.set()\n",
    "import json"
   ]
  },
  {
   "cell_type": "code",
   "execution_count": 2,
   "metadata": {
    "collapsed": true
   },
   "outputs": [],
   "source": [
    "# # models\n",
    "# from keras.applications.inception_v3 import InceptionV3\n",
    "# from keras.applications.vgg16 import VGG16\n",
    "# from keras.applications.resnet50 import ResNet50"
   ]
  },
  {
   "cell_type": "code",
   "execution_count": 4,
   "metadata": {},
   "outputs": [
    {
     "name": "stdout",
     "output_type": "stream",
     "text": [
      "data keys: ['images', 'labels', 'observation_days']\n"
     ]
    }
   ],
   "source": [
    "data = h5py.File(\"../dataset/data_sample.hdf5\", \"r\")\n",
    "print(\"data keys: \" + str(list(data.keys())))"
   ]
  },
  {
   "cell_type": "code",
   "execution_count": 5,
   "metadata": {
    "scrolled": true
   },
   "outputs": [
    {
     "name": "stdout",
     "output_type": "stream",
     "text": [
      "image shape: (sample, x_size, y_size, epoch) = (72000, 21, 21, 48)\n"
     ]
    }
   ],
   "source": [
    "images = data[\"images\"][:]\n",
    "print(\"image shape: (sample, x_size, y_size, epoch) = \" + str(images.shape))\n",
    "labels = data[\"labels\"][:]"
   ]
  },
  {
   "cell_type": "code",
   "execution_count": 6,
   "metadata": {
    "collapsed": true
   },
   "outputs": [],
   "source": [
    "def scale_images(images):\n",
    "    t_images = np.transpose(images, (0,3,1,2))\n",
    "    rt_images = t_images.reshape(72000*48, 21, 21)\n",
    "    max_per_img = np.max(rt_images.reshape(-1, 21*21), axis=1, keepdims=1)\n",
    "    scaled_images = rt_images.reshape(-1, 21*21) / max_per_img\n",
    "    scaled_images = scaled_images.reshape(-1, 21, 21).reshape(-1, 48, 21, 21)\n",
    "    return scaled_images"
   ]
  },
  {
   "cell_type": "code",
   "execution_count": 7,
   "metadata": {
    "collapsed": true
   },
   "outputs": [],
   "source": [
    "def txt2digit(labels):\n",
    "    dic = {'Asteroids':0, 'Constant':1, 'EmptyLigh':2, 'M33Cephei':3, 'RRLyrae':4, 'Supernova':5}\n",
    "    labels_digit = np.array([dic[i] for i in labels])\n",
    "    return labels_digit"
   ]
  },
  {
   "cell_type": "code",
   "execution_count": 8,
   "metadata": {
    "collapsed": true
   },
   "outputs": [],
   "source": [
    "def build_dataset(images, labels, seq2seq=False):\n",
    "    \n",
    "    train_indices = np.random.choice(np.arange(images.shape[0]), int( 0.7 * images.shape[0]))\n",
    "    val_indices = list(set(np.arange(images.shape[0])) - set(train_indices))\n",
    "    \n",
    "    x = np.transpose(images, (0, 3, 1, 2))\n",
    "    x = np.expand_dims(x, len(x.shape))\n",
    "    y = to_categorical(txt2digit(labels))\n",
    "    \n",
    "    if seq2seq:\n",
    "        y = np.repeat(y, 48).reshape(-1, 48, 6)\n",
    "    \n",
    "    return x, y"
   ]
  },
  {
   "cell_type": "code",
   "execution_count": 9,
   "metadata": {
    "collapsed": true
   },
   "outputs": [],
   "source": [
    "x, y = build_dataset(images, labels)"
   ]
  },
  {
   "cell_type": "code",
   "execution_count": 10,
   "metadata": {
    "collapsed": true
   },
   "outputs": [],
   "source": [
    "x_train, x_test, y_train, y_test = train_test_split(x, y, test_size=0.2, random_state=209, stratify=y)"
   ]
  },
  {
   "cell_type": "code",
   "execution_count": 10,
   "metadata": {},
   "outputs": [
    {
     "data": {
      "text/plain": [
       "(57600, 48, 21, 21, 1)"
      ]
     },
     "execution_count": 10,
     "metadata": {},
     "output_type": "execute_result"
    }
   ],
   "source": [
    "x_train.shape"
   ]
  },
  {
   "cell_type": "code",
   "execution_count": 11,
   "metadata": {
    "collapsed": true
   },
   "outputs": [],
   "source": [
    "def init_model3(cnn_input_dim=21, cnn_output_dim=128, cnn_dropout=0.5,\n",
    "               rnn_hidden_dim=128, rnn_output_dim=64, num_classes=6, rnn_dropout=0.5, timestep=48,\n",
    "               bidir_mode='concat'):\n",
    "    \n",
    "    input_shape = (timestep, cnn_input_dim, cnn_input_dim, 1, )\n",
    "    \n",
    "    model = Sequential()\n",
    "    \n",
    "    model.add(TimeDistributed(Conv2D(48, (4,4), \\\n",
    "                     padding='same', activation='relu', kernel_initializer='uniform'), input_shape=input_shape))\n",
    "#     model.add(TimeDistributed(BatchNormalization()))\n",
    "    model.add(TimeDistributed(MaxPooling2D((3,3), strides=(1,1))))\n",
    "    \n",
    "    model.add(TimeDistributed(Conv2D(24, (3,3), padding='same', activation='relu', kernel_initializer='uniform')))\n",
    "#     model.add(TimeDistributed(BatchNormalization()))\n",
    "    model.add(TimeDistributed(MaxPooling2D((3,3), strides=(1,1))))\n",
    "\n",
    "    model.add(TimeDistributed(Conv2D(12, (3,3), padding='same', activation='relu', kernel_initializer='uniform')))\n",
    "#     model.add(TimeDistributed(BatchNormalization()))\n",
    "    model.add(TimeDistributed(MaxPooling2D((3,3), strides=(1,1))))\n",
    "    \n",
    "    model.add(TimeDistributed(Flatten()))\n",
    "\n",
    "    model.add(TimeDistributed(Dense(128, activation='relu')))\n",
    "    model.add(Dropout(0.25))\n",
    "    \n",
    "    model.add(LSTM(rnn_hidden_dim, dropout=rnn_dropout, return_sequences=True))\n",
    "    model.add(LSTM(rnn_hidden_dim, dropout=rnn_dropout))\n",
    "    \n",
    "    model.add(Dense(6, activation='softmax'))\n",
    "    \n",
    "    return model"
   ]
  },
  {
   "cell_type": "code",
   "execution_count": 19,
   "metadata": {},
   "outputs": [
    {
     "name": "stdout",
     "output_type": "stream",
     "text": [
      "_________________________________________________________________\n",
      "Layer (type)                 Output Shape              Param #   \n",
      "=================================================================\n",
      "time_distributed_17 (TimeDis (None, 48, 21, 21, 48)    816       \n",
      "_________________________________________________________________\n",
      "time_distributed_18 (TimeDis (None, 48, 19, 19, 48)    0         \n",
      "_________________________________________________________________\n",
      "time_distributed_19 (TimeDis (None, 48, 19, 19, 24)    10392     \n",
      "_________________________________________________________________\n",
      "time_distributed_20 (TimeDis (None, 48, 17, 17, 24)    0         \n",
      "_________________________________________________________________\n",
      "time_distributed_21 (TimeDis (None, 48, 17, 17, 12)    2604      \n",
      "_________________________________________________________________\n",
      "time_distributed_22 (TimeDis (None, 48, 15, 15, 12)    0         \n",
      "_________________________________________________________________\n",
      "time_distributed_23 (TimeDis (None, 48, 2700)          0         \n",
      "_________________________________________________________________\n",
      "time_distributed_24 (TimeDis (None, 48, 128)           345728    \n",
      "_________________________________________________________________\n",
      "dropout_3 (Dropout)          (None, 48, 128)           0         \n",
      "_________________________________________________________________\n",
      "lstm_5 (LSTM)                (None, 48, 128)           131584    \n",
      "_________________________________________________________________\n",
      "lstm_6 (LSTM)                (None, 128)               131584    \n",
      "_________________________________________________________________\n",
      "dense_6 (Dense)              (None, 6)                 774       \n",
      "=================================================================\n",
      "Total params: 623,482\n",
      "Trainable params: 623,482\n",
      "Non-trainable params: 0\n",
      "_________________________________________________________________\n"
     ]
    }
   ],
   "source": [
    "opt = keras.optimizers.Adam(lr=1*1e-4)\n",
    "model3 = init_model3(bidir_mode='ave')\n",
    "model3.compile(optimizer=opt,\n",
    "              loss='categorical_crossentropy',\n",
    "              metrics=['accuracy'])\n",
    "model3.summary()"
   ]
  },
  {
   "cell_type": "code",
   "execution_count": 22,
   "metadata": {},
   "outputs": [
    {
     "name": "stdout",
     "output_type": "stream",
     "text": [
      "Train on 57600 samples, validate on 14400 samples\n",
      "Epoch 1/100\n",
      "57600/57600 [==============================] - 132s 2ms/step - loss: 1.8042 - acc: 0.1741 - val_loss: 1.7615 - val_acc: 0.3019\n",
      "\n",
      "Epoch 00001: val_acc improved from -inf to 0.30194, saving model to best_checkpoint/best_so_far.hdf5\n",
      "Epoch 2/100\n",
      "57600/57600 [==============================] - 131s 2ms/step - loss: 1.5289 - acc: 0.3010 - val_loss: 1.0690 - val_acc: 0.4564\n",
      "\n",
      "Epoch 00002: val_acc improved from 0.30194 to 0.45639, saving model to best_checkpoint/best_so_far.hdf5\n",
      "Epoch 3/100\n",
      "57600/57600 [==============================] - 131s 2ms/step - loss: 1.0509 - acc: 0.4750 - val_loss: 0.9447 - val_acc: 0.5237\n",
      "\n",
      "Epoch 00003: val_acc improved from 0.45639 to 0.52375, saving model to best_checkpoint/best_so_far.hdf5\n",
      "Epoch 4/100\n",
      "57600/57600 [==============================] - 132s 2ms/step - loss: 0.9543 - acc: 0.5205 - val_loss: 0.9581 - val_acc: 0.5217\n",
      "\n",
      "Epoch 00004: val_acc did not improve from 0.52375\n",
      "Epoch 5/100\n",
      "57600/57600 [==============================] - 131s 2ms/step - loss: 0.9576 - acc: 0.5237 - val_loss: 0.8760 - val_acc: 0.5460\n",
      "\n",
      "Epoch 00005: val_acc improved from 0.52375 to 0.54597, saving model to best_checkpoint/best_so_far.hdf5\n",
      "Epoch 6/100\n",
      "57600/57600 [==============================] - 132s 2ms/step - loss: 0.8866 - acc: 0.5444 - val_loss: 0.8399 - val_acc: 0.5646\n",
      "\n",
      "Epoch 00006: val_acc improved from 0.54597 to 0.56458, saving model to best_checkpoint/best_so_far.hdf5\n",
      "Epoch 7/100\n",
      "57600/57600 [==============================] - 132s 2ms/step - loss: 0.8601 - acc: 0.5560 - val_loss: 0.8847 - val_acc: 0.5479\n",
      "\n",
      "Epoch 00007: val_acc did not improve from 0.56458\n",
      "Epoch 8/100\n",
      "57600/57600 [==============================] - 132s 2ms/step - loss: 0.8865 - acc: 0.5477 - val_loss: 0.8380 - val_acc: 0.5682\n",
      "\n",
      "Epoch 00008: val_acc improved from 0.56458 to 0.56819, saving model to best_checkpoint/best_so_far.hdf5\n",
      "Epoch 9/100\n",
      "57600/57600 [==============================] - 131s 2ms/step - loss: 0.8521 - acc: 0.5602 - val_loss: 0.8322 - val_acc: 0.5611\n",
      "\n",
      "Epoch 00009: val_acc did not improve from 0.56819\n",
      "Epoch 10/100\n",
      "57600/57600 [==============================] - 132s 2ms/step - loss: 0.9001 - acc: 0.5489 - val_loss: 0.8650 - val_acc: 0.5544\n",
      "\n",
      "Epoch 00010: val_acc did not improve from 0.56819\n",
      "Epoch 11/100\n",
      "57600/57600 [==============================] - 131s 2ms/step - loss: 0.8413 - acc: 0.5622 - val_loss: 0.8032 - val_acc: 0.5873\n",
      "\n",
      "Epoch 00011: val_acc improved from 0.56819 to 0.58729, saving model to best_checkpoint/best_so_far.hdf5\n",
      "Epoch 12/100\n",
      "57600/57600 [==============================] - 132s 2ms/step - loss: 0.8240 - acc: 0.5691 - val_loss: 0.8036 - val_acc: 0.5954\n",
      "\n",
      "Epoch 00012: val_acc improved from 0.58729 to 0.59542, saving model to best_checkpoint/best_so_far.hdf5\n",
      "Epoch 13/100\n",
      "57600/57600 [==============================] - 132s 2ms/step - loss: 0.8253 - acc: 0.5662 - val_loss: 0.7998 - val_acc: 0.5749\n",
      "\n",
      "Epoch 00013: val_acc did not improve from 0.59542\n",
      "Epoch 14/100\n",
      "57600/57600 [==============================] - 132s 2ms/step - loss: 0.8120 - acc: 0.5747 - val_loss: 0.8379 - val_acc: 0.5610\n",
      "\n",
      "Epoch 00014: val_acc did not improve from 0.59542\n",
      "Epoch 15/100\n",
      "57600/57600 [==============================] - 131s 2ms/step - loss: 0.8110 - acc: 0.5747 - val_loss: 0.7860 - val_acc: 0.5872\n",
      "\n",
      "Epoch 00015: val_acc did not improve from 0.59542\n",
      "Epoch 16/100\n",
      "57600/57600 [==============================] - 131s 2ms/step - loss: 0.8028 - acc: 0.5774 - val_loss: 0.7895 - val_acc: 0.5964\n",
      "\n",
      "Epoch 00016: val_acc improved from 0.59542 to 0.59639, saving model to best_checkpoint/best_so_far.hdf5\n",
      "Epoch 17/100\n",
      "57600/57600 [==============================] - 132s 2ms/step - loss: 0.8378 - acc: 0.5697 - val_loss: 0.7724 - val_acc: 0.5914\n",
      "\n",
      "Epoch 00017: val_acc did not improve from 0.59639\n",
      "Epoch 18/100\n",
      "57600/57600 [==============================] - 132s 2ms/step - loss: 0.7929 - acc: 0.5811 - val_loss: 0.7748 - val_acc: 0.6039\n",
      "\n",
      "Epoch 00018: val_acc improved from 0.59639 to 0.60389, saving model to best_checkpoint/best_so_far.hdf5\n",
      "Epoch 19/100\n",
      "57600/57600 [==============================] - 132s 2ms/step - loss: 0.7986 - acc: 0.5827 - val_loss: 0.7678 - val_acc: 0.5949\n",
      "\n",
      "Epoch 00019: val_acc did not improve from 0.60389\n",
      "Epoch 20/100\n",
      "57600/57600 [==============================] - 131s 2ms/step - loss: 0.7924 - acc: 0.5861 - val_loss: 0.7695 - val_acc: 0.5988\n",
      "\n",
      "Epoch 00020: val_acc did not improve from 0.60389\n",
      "Epoch 21/100\n",
      "57600/57600 [==============================] - 132s 2ms/step - loss: 0.7900 - acc: 0.5911 - val_loss: 0.7598 - val_acc: 0.6208\n",
      "\n",
      "Epoch 00021: val_acc improved from 0.60389 to 0.62076, saving model to best_checkpoint/best_so_far.hdf5\n",
      "Epoch 22/100\n",
      "57600/57600 [==============================] - 132s 2ms/step - loss: 0.7838 - acc: 0.5984 - val_loss: 0.7275 - val_acc: 0.6264\n",
      "\n",
      "Epoch 00022: val_acc improved from 0.62076 to 0.62639, saving model to best_checkpoint/best_so_far.hdf5\n",
      "Epoch 23/100\n",
      "57600/57600 [==============================] - 132s 2ms/step - loss: 0.7687 - acc: 0.6082 - val_loss: 0.7179 - val_acc: 0.6357\n",
      "\n",
      "Epoch 00023: val_acc improved from 0.62639 to 0.63569, saving model to best_checkpoint/best_so_far.hdf5\n",
      "Epoch 24/100\n",
      "57600/57600 [==============================] - 132s 2ms/step - loss: 0.7677 - acc: 0.6151 - val_loss: 0.7206 - val_acc: 0.6322\n",
      "\n",
      "Epoch 00024: val_acc did not improve from 0.63569\n",
      "Epoch 25/100\n",
      "57600/57600 [==============================] - 132s 2ms/step - loss: 0.7509 - acc: 0.6247 - val_loss: 0.7125 - val_acc: 0.6424\n",
      "\n",
      "Epoch 00025: val_acc improved from 0.63569 to 0.64243, saving model to best_checkpoint/best_so_far.hdf5\n",
      "Epoch 26/100\n",
      "57600/57600 [==============================] - 132s 2ms/step - loss: 0.7413 - acc: 0.6322 - val_loss: 0.6977 - val_acc: 0.6531\n",
      "\n",
      "Epoch 00026: val_acc improved from 0.64243 to 0.65306, saving model to best_checkpoint/best_so_far.hdf5\n",
      "Epoch 27/100\n",
      "57600/57600 [==============================] - 132s 2ms/step - loss: 0.7289 - acc: 0.6389 - val_loss: 0.6998 - val_acc: 0.6567\n",
      "\n",
      "Epoch 00027: val_acc improved from 0.65306 to 0.65667, saving model to best_checkpoint/best_so_far.hdf5\n",
      "Epoch 28/100\n",
      "57600/57600 [==============================] - 131s 2ms/step - loss: 0.7181 - acc: 0.6471 - val_loss: 0.6803 - val_acc: 0.6717\n",
      "\n",
      "Epoch 00028: val_acc improved from 0.65667 to 0.67167, saving model to best_checkpoint/best_so_far.hdf5\n",
      "Epoch 29/100\n",
      "57600/57600 [==============================] - 131s 2ms/step - loss: 0.7246 - acc: 0.6494 - val_loss: 0.6670 - val_acc: 0.6776\n",
      "\n",
      "Epoch 00029: val_acc improved from 0.67167 to 0.67757, saving model to best_checkpoint/best_so_far.hdf5\n",
      "Epoch 30/100\n",
      "57600/57600 [==============================] - 132s 2ms/step - loss: 0.6986 - acc: 0.6603 - val_loss: 0.6614 - val_acc: 0.6826\n",
      "\n",
      "Epoch 00030: val_acc improved from 0.67757 to 0.68257, saving model to best_checkpoint/best_so_far.hdf5\n",
      "Epoch 31/100\n",
      "57600/57600 [==============================] - 132s 2ms/step - loss: 0.6874 - acc: 0.6678 - val_loss: 0.6570 - val_acc: 0.6872\n",
      "\n",
      "Epoch 00031: val_acc improved from 0.68257 to 0.68715, saving model to best_checkpoint/best_so_far.hdf5\n",
      "Epoch 32/100\n",
      "57600/57600 [==============================] - 131s 2ms/step - loss: 0.6800 - acc: 0.6721 - val_loss: 0.6824 - val_acc: 0.6763\n",
      "\n",
      "Epoch 00032: val_acc did not improve from 0.68715\n",
      "Epoch 33/100\n",
      "57600/57600 [==============================] - 131s 2ms/step - loss: 0.6749 - acc: 0.6765 - val_loss: 0.7326 - val_acc: 0.6581\n",
      "\n",
      "Epoch 00033: val_acc did not improve from 0.68715\n",
      "Epoch 34/100\n",
      "57600/57600 [==============================] - 131s 2ms/step - loss: 0.6658 - acc: 0.6820 - val_loss: 0.6433 - val_acc: 0.6895\n",
      "\n",
      "Epoch 00034: val_acc improved from 0.68715 to 0.68951, saving model to best_checkpoint/best_so_far.hdf5\n",
      "Epoch 35/100\n",
      "57600/57600 [==============================] - 131s 2ms/step - loss: 0.6551 - acc: 0.6845 - val_loss: 0.6855 - val_acc: 0.6833\n",
      "\n",
      "Epoch 00035: val_acc did not improve from 0.68951\n",
      "Epoch 36/100\n",
      "57600/57600 [==============================] - 132s 2ms/step - loss: 0.6444 - acc: 0.6925 - val_loss: 0.6446 - val_acc: 0.6968\n",
      "\n",
      "Epoch 00036: val_acc improved from 0.68951 to 0.69681, saving model to best_checkpoint/best_so_far.hdf5\n",
      "Epoch 37/100\n",
      "57600/57600 [==============================] - 131s 2ms/step - loss: 0.6490 - acc: 0.6916 - val_loss: 0.6544 - val_acc: 0.6992\n",
      "\n",
      "Epoch 00037: val_acc improved from 0.69681 to 0.69924, saving model to best_checkpoint/best_so_far.hdf5\n",
      "Epoch 38/100\n",
      "57600/57600 [==============================] - 131s 2ms/step - loss: 0.6220 - acc: 0.7050 - val_loss: 0.6561 - val_acc: 0.7050\n",
      "\n",
      "Epoch 00038: val_acc improved from 0.69924 to 0.70500, saving model to best_checkpoint/best_so_far.hdf5\n",
      "Epoch 39/100\n",
      "57600/57600 [==============================] - 131s 2ms/step - loss: 0.6177 - acc: 0.7062 - val_loss: 0.6107 - val_acc: 0.7228\n",
      "\n",
      "Epoch 00039: val_acc improved from 0.70500 to 0.72285, saving model to best_checkpoint/best_so_far.hdf5\n",
      "Epoch 40/100\n",
      "57600/57600 [==============================] - 131s 2ms/step - loss: 0.6121 - acc: 0.7114 - val_loss: 0.6007 - val_acc: 0.7184\n",
      "\n",
      "Epoch 00040: val_acc did not improve from 0.72285\n",
      "Epoch 41/100\n",
      "57600/57600 [==============================] - 131s 2ms/step - loss: 0.6059 - acc: 0.7128 - val_loss: 0.5558 - val_acc: 0.7399\n",
      "\n",
      "Epoch 00041: val_acc improved from 0.72285 to 0.73986, saving model to best_checkpoint/best_so_far.hdf5\n",
      "Epoch 42/100\n",
      "57600/57600 [==============================] - 131s 2ms/step - loss: 0.6109 - acc: 0.7111 - val_loss: 0.6121 - val_acc: 0.7154\n",
      "\n",
      "Epoch 00042: val_acc did not improve from 0.73986\n",
      "Epoch 43/100\n",
      "57600/57600 [==============================] - 131s 2ms/step - loss: 0.5934 - acc: 0.7197 - val_loss: 0.5983 - val_acc: 0.7272\n",
      "\n",
      "Epoch 00043: val_acc did not improve from 0.73986\n",
      "Epoch 44/100\n",
      "57600/57600 [==============================] - 131s 2ms/step - loss: 0.5881 - acc: 0.7220 - val_loss: 0.6183 - val_acc: 0.7187\n",
      "\n",
      "Epoch 00044: val_acc did not improve from 0.73986\n",
      "Epoch 45/100\n",
      "57600/57600 [==============================] - 131s 2ms/step - loss: 0.5847 - acc: 0.7240 - val_loss: 0.5811 - val_acc: 0.7335\n",
      "\n",
      "Epoch 00045: val_acc did not improve from 0.73986\n",
      "Epoch 46/100\n",
      "57600/57600 [==============================] - 131s 2ms/step - loss: 0.5735 - acc: 0.7285 - val_loss: 0.5727 - val_acc: 0.7336\n",
      "\n",
      "Epoch 00046: val_acc did not improve from 0.73986\n",
      "Epoch 47/100\n",
      "57600/57600 [==============================] - 130s 2ms/step - loss: 0.5772 - acc: 0.7290 - val_loss: 0.5894 - val_acc: 0.7225\n",
      "\n",
      "Epoch 00047: val_acc did not improve from 0.73986\n",
      "Epoch 48/100\n",
      "57600/57600 [==============================] - 131s 2ms/step - loss: 0.5753 - acc: 0.7308 - val_loss: 0.5697 - val_acc: 0.7397\n",
      "\n",
      "Epoch 00048: val_acc did not improve from 0.73986\n",
      "Epoch 49/100\n",
      "57600/57600 [==============================] - 131s 2ms/step - loss: 0.5633 - acc: 0.7352 - val_loss: 0.5964 - val_acc: 0.7308\n",
      "\n",
      "Epoch 00049: val_acc did not improve from 0.73986\n",
      "Epoch 50/100\n",
      "57600/57600 [==============================] - 131s 2ms/step - loss: 0.5636 - acc: 0.7342 - val_loss: 0.5975 - val_acc: 0.7338\n",
      "\n",
      "Epoch 00050: val_acc did not improve from 0.73986\n",
      "Epoch 51/100\n",
      "57600/57600 [==============================] - 130s 2ms/step - loss: 0.5548 - acc: 0.7395 - val_loss: 0.5224 - val_acc: 0.7560\n",
      "\n",
      "Epoch 00051: val_acc improved from 0.73986 to 0.75597, saving model to best_checkpoint/best_so_far.hdf5\n",
      "Epoch 52/100\n",
      "57600/57600 [==============================] - 132s 2ms/step - loss: 0.5487 - acc: 0.7427 - val_loss: 0.5431 - val_acc: 0.7533\n",
      "\n",
      "Epoch 00052: val_acc did not improve from 0.75597\n",
      "Epoch 53/100\n",
      "57600/57600 [==============================] - 132s 2ms/step - loss: 0.5618 - acc: 0.7401 - val_loss: 0.5182 - val_acc: 0.7635\n",
      "\n",
      "Epoch 00053: val_acc improved from 0.75597 to 0.76354, saving model to best_checkpoint/best_so_far.hdf5\n",
      "Epoch 54/100\n",
      "57600/57600 [==============================] - 132s 2ms/step - loss: 0.5467 - acc: 0.7447 - val_loss: 0.5213 - val_acc: 0.7614\n",
      "\n",
      "Epoch 00054: val_acc did not improve from 0.76354\n",
      "Epoch 55/100\n",
      "57600/57600 [==============================] - 132s 2ms/step - loss: 0.5375 - acc: 0.7500 - val_loss: 0.5194 - val_acc: 0.7605\n",
      "\n",
      "Epoch 00055: val_acc did not improve from 0.76354\n",
      "Epoch 56/100\n",
      "57600/57600 [==============================] - 132s 2ms/step - loss: 0.5427 - acc: 0.7486 - val_loss: 0.6317 - val_acc: 0.7247\n",
      "\n",
      "Epoch 00056: val_acc did not improve from 0.76354\n",
      "Epoch 57/100\n",
      "57600/57600 [==============================] - 131s 2ms/step - loss: 0.5335 - acc: 0.7524 - val_loss: 0.5295 - val_acc: 0.7625\n",
      "\n",
      "Epoch 00057: val_acc did not improve from 0.76354\n",
      "Epoch 58/100\n",
      "57600/57600 [==============================] - 132s 2ms/step - loss: 0.5495 - acc: 0.7483 - val_loss: 0.5346 - val_acc: 0.7582\n",
      "\n",
      "Epoch 00058: val_acc did not improve from 0.76354\n",
      "Epoch 59/100\n",
      "57600/57600 [==============================] - 132s 2ms/step - loss: 0.5257 - acc: 0.7534 - val_loss: 0.5298 - val_acc: 0.7615\n",
      "\n",
      "Epoch 00059: val_acc did not improve from 0.76354\n",
      "Epoch 60/100\n",
      "57600/57600 [==============================] - 131s 2ms/step - loss: 0.5206 - acc: 0.7591 - val_loss: 0.5745 - val_acc: 0.7555\n",
      "\n",
      "Epoch 00060: val_acc did not improve from 0.76354\n",
      "Epoch 61/100\n",
      "57600/57600 [==============================] - 132s 2ms/step - loss: 0.5185 - acc: 0.7578 - val_loss: 0.5395 - val_acc: 0.7615\n",
      "\n",
      "Epoch 00061: val_acc did not improve from 0.76354\n",
      "Epoch 62/100\n",
      "57600/57600 [==============================] - 132s 2ms/step - loss: 0.5153 - acc: 0.7614 - val_loss: 0.5042 - val_acc: 0.7735\n",
      "\n",
      "Epoch 00062: val_acc improved from 0.76354 to 0.77354, saving model to best_checkpoint/best_so_far.hdf5\n",
      "Epoch 63/100\n",
      "57600/57600 [==============================] - 131s 2ms/step - loss: 0.5153 - acc: 0.7622 - val_loss: 0.5034 - val_acc: 0.7715\n",
      "\n",
      "Epoch 00063: val_acc did not improve from 0.77354\n",
      "Epoch 64/100\n",
      "57600/57600 [==============================] - 132s 2ms/step - loss: 0.5072 - acc: 0.7645 - val_loss: 0.5357 - val_acc: 0.7633\n",
      "\n",
      "Epoch 00064: val_acc did not improve from 0.77354\n",
      "Epoch 65/100\n",
      "57600/57600 [==============================] - 132s 2ms/step - loss: 0.5055 - acc: 0.7664 - val_loss: 0.5124 - val_acc: 0.7714\n",
      "\n",
      "Epoch 00065: val_acc did not improve from 0.77354\n",
      "Epoch 66/100\n",
      "57600/57600 [==============================] - 131s 2ms/step - loss: 0.5028 - acc: 0.7695 - val_loss: 0.5125 - val_acc: 0.7737\n",
      "\n",
      "Epoch 00066: val_acc improved from 0.77354 to 0.77375, saving model to best_checkpoint/best_so_far.hdf5\n",
      "Epoch 67/100\n",
      "57600/57600 [==============================] - 132s 2ms/step - loss: 0.5012 - acc: 0.7706 - val_loss: 0.5106 - val_acc: 0.7727\n",
      "\n",
      "Epoch 00067: val_acc did not improve from 0.77375\n",
      "Epoch 68/100\n",
      "57600/57600 [==============================] - 131s 2ms/step - loss: 0.5198 - acc: 0.7633 - val_loss: 0.5623 - val_acc: 0.7581\n",
      "\n",
      "Epoch 00068: val_acc did not improve from 0.77375\n",
      "Epoch 69/100\n",
      "57600/57600 [==============================] - 132s 2ms/step - loss: 0.5015 - acc: 0.7724 - val_loss: 0.4881 - val_acc: 0.7843\n",
      "\n",
      "Epoch 00069: val_acc improved from 0.77375 to 0.78431, saving model to best_checkpoint/best_so_far.hdf5\n",
      "Epoch 70/100\n",
      "57600/57600 [==============================] - 132s 2ms/step - loss: 0.4902 - acc: 0.7761 - val_loss: 0.4796 - val_acc: 0.7853\n",
      "\n",
      "Epoch 00070: val_acc improved from 0.78431 to 0.78535, saving model to best_checkpoint/best_so_far.hdf5\n",
      "Epoch 71/100\n",
      "57600/57600 [==============================] - 132s 2ms/step - loss: 0.4912 - acc: 0.7756 - val_loss: 0.4765 - val_acc: 0.7846\n",
      "\n",
      "Epoch 00071: val_acc did not improve from 0.78535\n",
      "Epoch 72/100\n",
      "57600/57600 [==============================] - 131s 2ms/step - loss: 0.4904 - acc: 0.7770 - val_loss: 0.4513 - val_acc: 0.7965\n",
      "\n",
      "Epoch 00072: val_acc improved from 0.78535 to 0.79646, saving model to best_checkpoint/best_so_far.hdf5\n",
      "Epoch 73/100\n",
      "57600/57600 [==============================] - 131s 2ms/step - loss: 0.4848 - acc: 0.7791 - val_loss: 0.4586 - val_acc: 0.7907\n",
      "\n",
      "Epoch 00073: val_acc did not improve from 0.79646\n",
      "Epoch 74/100\n",
      "57600/57600 [==============================] - 131s 2ms/step - loss: 0.4978 - acc: 0.7757 - val_loss: 0.4822 - val_acc: 0.7888\n",
      "\n",
      "Epoch 00074: val_acc did not improve from 0.79646\n",
      "Epoch 75/100\n",
      "57600/57600 [==============================] - 131s 2ms/step - loss: 0.4830 - acc: 0.7796 - val_loss: 0.4530 - val_acc: 0.7991\n",
      "\n",
      "Epoch 00075: val_acc improved from 0.79646 to 0.79910, saving model to best_checkpoint/best_so_far.hdf5\n",
      "Epoch 76/100\n",
      "57600/57600 [==============================] - 131s 2ms/step - loss: 0.4736 - acc: 0.7858 - val_loss: 0.4821 - val_acc: 0.7901\n"
     ]
    },
    {
     "name": "stdout",
     "output_type": "stream",
     "text": [
      "\n",
      "Epoch 00076: val_acc did not improve from 0.79910\n",
      "Epoch 77/100\n",
      "57600/57600 [==============================] - 131s 2ms/step - loss: 0.4711 - acc: 0.7870 - val_loss: 0.4549 - val_acc: 0.8044\n",
      "\n",
      "Epoch 00077: val_acc improved from 0.79910 to 0.80437, saving model to best_checkpoint/best_so_far.hdf5\n",
      "Epoch 78/100\n",
      "57600/57600 [==============================] - 132s 2ms/step - loss: 0.4752 - acc: 0.7867 - val_loss: 0.4396 - val_acc: 0.8081\n",
      "\n",
      "Epoch 00078: val_acc improved from 0.80437 to 0.80806, saving model to best_checkpoint/best_so_far.hdf5\n",
      "Epoch 79/100\n",
      "57600/57600 [==============================] - 132s 2ms/step - loss: 0.4780 - acc: 0.7855 - val_loss: 0.4508 - val_acc: 0.8042\n",
      "\n",
      "Epoch 00079: val_acc did not improve from 0.80806\n",
      "Epoch 80/100\n",
      "57600/57600 [==============================] - 132s 2ms/step - loss: 0.4626 - acc: 0.7921 - val_loss: 0.4587 - val_acc: 0.8029\n",
      "\n",
      "Epoch 00080: val_acc did not improve from 0.80806\n",
      "Epoch 81/100\n",
      "57600/57600 [==============================] - 131s 2ms/step - loss: 0.4599 - acc: 0.7947 - val_loss: 0.4818 - val_acc: 0.8007\n",
      "\n",
      "Epoch 00081: val_acc did not improve from 0.80806\n",
      "Epoch 82/100\n",
      "57600/57600 [==============================] - 132s 2ms/step - loss: 0.4562 - acc: 0.7966 - val_loss: 0.4406 - val_acc: 0.8121\n",
      "\n",
      "Epoch 00082: val_acc improved from 0.80806 to 0.81208, saving model to best_checkpoint/best_so_far.hdf5\n",
      "Epoch 83/100\n",
      "57600/57600 [==============================] - 132s 2ms/step - loss: 0.4529 - acc: 0.7980 - val_loss: 0.4304 - val_acc: 0.8179\n",
      "\n",
      "Epoch 00083: val_acc improved from 0.81208 to 0.81792, saving model to best_checkpoint/best_so_far.hdf5\n",
      "Epoch 84/100\n",
      "57600/57600 [==============================] - 131s 2ms/step - loss: 0.4527 - acc: 0.7979 - val_loss: 0.4445 - val_acc: 0.8174\n",
      "\n",
      "Epoch 00084: val_acc did not improve from 0.81792\n",
      "Epoch 85/100\n",
      "57600/57600 [==============================] - 131s 2ms/step - loss: 0.4510 - acc: 0.7986 - val_loss: 0.4099 - val_acc: 0.8236\n",
      "\n",
      "Epoch 00085: val_acc improved from 0.81792 to 0.82361, saving model to best_checkpoint/best_so_far.hdf5\n",
      "Epoch 86/100\n",
      "57600/57600 [==============================] - 131s 2ms/step - loss: 0.4599 - acc: 0.7960 - val_loss: 0.4441 - val_acc: 0.8172\n",
      "\n",
      "Epoch 00086: val_acc did not improve from 0.82361\n",
      "Epoch 87/100\n",
      "57600/57600 [==============================] - 131s 2ms/step - loss: 0.4478 - acc: 0.8016 - val_loss: 0.4430 - val_acc: 0.8118\n",
      "\n",
      "Epoch 00087: val_acc did not improve from 0.82361\n",
      "Epoch 88/100\n",
      "57600/57600 [==============================] - 131s 2ms/step - loss: 0.4423 - acc: 0.8047 - val_loss: 0.4264 - val_acc: 0.8211\n",
      "\n",
      "Epoch 00088: val_acc did not improve from 0.82361\n",
      "Epoch 89/100\n",
      "57600/57600 [==============================] - 131s 2ms/step - loss: 0.4390 - acc: 0.8038 - val_loss: 0.4218 - val_acc: 0.8227\n",
      "\n",
      "Epoch 00089: val_acc did not improve from 0.82361\n",
      "Epoch 90/100\n",
      "57600/57600 [==============================] - 131s 2ms/step - loss: 0.4414 - acc: 0.8030 - val_loss: 0.4002 - val_acc: 0.8296\n",
      "\n",
      "Epoch 00090: val_acc improved from 0.82361 to 0.82958, saving model to best_checkpoint/best_so_far.hdf5\n",
      "Epoch 91/100\n",
      "57600/57600 [==============================] - 131s 2ms/step - loss: 0.4344 - acc: 0.8078 - val_loss: 0.4418 - val_acc: 0.8162\n",
      "\n",
      "Epoch 00091: val_acc did not improve from 0.82958\n",
      "Epoch 92/100\n",
      "57600/57600 [==============================] - 131s 2ms/step - loss: 0.4378 - acc: 0.8088 - val_loss: 0.3994 - val_acc: 0.8301\n",
      "\n",
      "Epoch 00092: val_acc improved from 0.82958 to 0.83007, saving model to best_checkpoint/best_so_far.hdf5\n",
      "Epoch 93/100\n",
      "57600/57600 [==============================] - 131s 2ms/step - loss: 0.4293 - acc: 0.8117 - val_loss: 0.4168 - val_acc: 0.8256\n",
      "\n",
      "Epoch 00093: val_acc did not improve from 0.83007\n",
      "Epoch 94/100\n",
      "57600/57600 [==============================] - 131s 2ms/step - loss: 0.4285 - acc: 0.8127 - val_loss: 0.4198 - val_acc: 0.8274\n",
      "\n",
      "Epoch 00094: val_acc did not improve from 0.83007\n",
      "Epoch 95/100\n",
      "57600/57600 [==============================] - 131s 2ms/step - loss: 0.4461 - acc: 0.8059 - val_loss: 0.4625 - val_acc: 0.8047\n",
      "\n",
      "Epoch 00095: val_acc did not improve from 0.83007\n",
      "Epoch 96/100\n",
      "57600/57600 [==============================] - 131s 2ms/step - loss: 0.4334 - acc: 0.8088 - val_loss: 0.4144 - val_acc: 0.8301\n",
      "\n",
      "Epoch 00096: val_acc improved from 0.83007 to 0.83007, saving model to best_checkpoint/best_so_far.hdf5\n",
      "Epoch 97/100\n",
      "57600/57600 [==============================] - 131s 2ms/step - loss: 0.4252 - acc: 0.8143 - val_loss: 0.3841 - val_acc: 0.8375\n",
      "\n",
      "Epoch 00097: val_acc improved from 0.83007 to 0.83750, saving model to best_checkpoint/best_so_far.hdf5\n",
      "Epoch 98/100\n",
      "57600/57600 [==============================] - 131s 2ms/step - loss: 0.4173 - acc: 0.8171 - val_loss: 0.4089 - val_acc: 0.8334\n",
      "\n",
      "Epoch 00098: val_acc did not improve from 0.83750\n",
      "Epoch 99/100\n",
      "57600/57600 [==============================] - 131s 2ms/step - loss: 0.4601 - acc: 0.8019 - val_loss: 0.4256 - val_acc: 0.8253\n",
      "\n",
      "Epoch 00099: val_acc did not improve from 0.83750\n",
      "Epoch 100/100\n",
      "57600/57600 [==============================] - 131s 2ms/step - loss: 0.4153 - acc: 0.8190 - val_loss: 0.4137 - val_acc: 0.8328\n",
      "\n",
      "Epoch 00100: val_acc did not improve from 0.83750\n"
     ]
    }
   ],
   "source": [
    "batch_size = 100\n",
    "epochs = 100\n",
    "\n",
    "checkpoint = keras.callbacks.ModelCheckpoint('best_checkpoint/best_so_far.hdf5', monitor='val_acc', verbose=1, save_best_only=True, mode='max')\n",
    "model3_fit = model3.fit(x_train, y_train,\n",
    "              batch_size=batch_size,\n",
    "              epochs=epochs,\n",
    "              validation_data=(x_test, y_test),\n",
    "              callbacks=[checkpoint],\n",
    "              shuffle=True)"
   ]
  },
  {
   "cell_type": "code",
   "execution_count": 38,
   "metadata": {
    "collapsed": true
   },
   "outputs": [],
   "source": [
    "ep100_hist = {'loss':[], 'val_loss':[], 'acc':[], 'val_acc':[]}\n",
    "\n",
    "f = open('ep100.txt', 'r')\n",
    "for line in f.readlines():\n",
    "    if 'loss' in line:\n",
    "        words = line.strip().split()\n",
    "#         print(words)\n",
    "#         print(words[7], words[10], words[13], words[16])\n",
    "        ep100_hist['loss'].append(float(words[7]))\n",
    "        ep100_hist['acc'].append(float(words[10]))\n",
    "        ep100_hist['val_loss'].append(float(words[13]))\n",
    "        ep100_hist['val_acc'].append(float(words[16]))\n",
    "\n",
    "with open('history.json', 'w') as f:\n",
    "    json.dump(ep100_hist, f)"
   ]
  },
  {
   "cell_type": "code",
   "execution_count": 11,
   "metadata": {
    "collapsed": true
   },
   "outputs": [],
   "source": [
    "with open('saved_history/simple_lstm_ep300/history.json', 'r') as f:\n",
    "    hist_ep100 = json.load(f)\n",
    "with open('saved_history/simple_lstm_ep300/history1.json', 'r') as f:\n",
    "    hist_ep200 = json.load(f)\n",
    "with open('saved_history/simple_lstm_ep300/history2.json', 'r') as f:\n",
    "    hist_ep300 = json.load(f)"
   ]
  },
  {
   "cell_type": "code",
   "execution_count": 12,
   "metadata": {
    "scrolled": false
   },
   "outputs": [
    {
     "data": {
      "image/png": "[encoded data removed]",
      "text/plain": [
       "<matplotlib.figure.Figure at 0x1b909b4b38>"
      ]
     },
     "metadata": {},
     "output_type": "display_data"
    }
   ],
   "source": [
    "plt.figure(figsize=(12,5))\n",
    "plt.plot(range(len(hist_ep100['acc']+hist_ep200['acc']+hist_ep300['acc'])),\\\n",
    "         hist_ep100['acc']+hist_ep200['acc']+hist_ep300['acc'], label='Training set accuracy')\n",
    "plt.plot(range(len(hist_ep100['acc']+hist_ep200['acc']+hist_ep300['acc'])), \\\n",
    "         hist_ep100['val_acc']+hist_ep200['val_acc']+hist_ep300['val_acc'], label='Testing set accuracy')\n",
    "plt.legend()\n",
    "plt.show()"
   ]
  },
  {
   "cell_type": "markdown",
   "metadata": {},
   "source": [
    "Load saved best model and visualize the confusion matrix"
   ]
  },
  {
   "cell_type": "code",
   "execution_count": 13,
   "metadata": {},
   "outputs": [
    {
     "ename": "TypeError",
     "evalue": "('Keyword argument not understood:', 'data_format')",
     "output_type": "error",
     "traceback": [
      "\u001b[0;31m---------------------------------------------------------------------------\u001b[0m",
      "\u001b[0;31mTypeError\u001b[0m                                 Traceback (most recent call last)",
      "\u001b[0;32m<ipython-input-13-8580522023d1>\u001b[0m in \u001b[0;36m<module>\u001b[0;34m()\u001b[0m\n\u001b[0;32m----> 1\u001b[0;31m \u001b[0mmodel\u001b[0m \u001b[0;34m=\u001b[0m \u001b[0mkeras\u001b[0m\u001b[0;34m.\u001b[0m\u001b[0mmodels\u001b[0m\u001b[0;34m.\u001b[0m\u001b[0mload_model\u001b[0m\u001b[0;34m(\u001b[0m\u001b[0;34m'saved_models/rcnn_simple_lstm_ep300.hdf5'\u001b[0m\u001b[0;34m)\u001b[0m\u001b[0;34m\u001b[0m\u001b[0m\n\u001b[0m",
      "\u001b[0;32m/Users/gzq/anaconda/lib/python3.6/site-packages/keras/models.py\u001b[0m in \u001b[0;36mload_model\u001b[0;34m(filepath, custom_objects, compile)\u001b[0m\n\u001b[1;32m    241\u001b[0m             \u001b[0;32mraise\u001b[0m \u001b[0mValueError\u001b[0m\u001b[0;34m(\u001b[0m\u001b[0;34m'No model found in config file.'\u001b[0m\u001b[0;34m)\u001b[0m\u001b[0;34m\u001b[0m\u001b[0m\n\u001b[1;32m    242\u001b[0m         \u001b[0mmodel_config\u001b[0m \u001b[0;34m=\u001b[0m \u001b[0mjson\u001b[0m\u001b[0;34m.\u001b[0m\u001b[0mloads\u001b[0m\u001b[0;34m(\u001b[0m\u001b[0mmodel_config\u001b[0m\u001b[0;34m.\u001b[0m\u001b[0mdecode\u001b[0m\u001b[0;34m(\u001b[0m\u001b[0;34m'utf-8'\u001b[0m\u001b[0;34m)\u001b[0m\u001b[0;34m)\u001b[0m\u001b[0;34m\u001b[0m\u001b[0m\n\u001b[0;32m--> 243\u001b[0;31m         \u001b[0mmodel\u001b[0m \u001b[0;34m=\u001b[0m \u001b[0mmodel_from_config\u001b[0m\u001b[0;34m(\u001b[0m\u001b[0mmodel_config\u001b[0m\u001b[0;34m,\u001b[0m \u001b[0mcustom_objects\u001b[0m\u001b[0;34m=\u001b[0m\u001b[0mcustom_objects\u001b[0m\u001b[0;34m)\u001b[0m\u001b[0;34m\u001b[0m\u001b[0m\n\u001b[0m\u001b[1;32m    244\u001b[0m \u001b[0;34m\u001b[0m\u001b[0m\n\u001b[1;32m    245\u001b[0m         \u001b[0;31m# set weights\u001b[0m\u001b[0;34m\u001b[0m\u001b[0;34m\u001b[0m\u001b[0m\n",
      "\u001b[0;32m/Users/gzq/anaconda/lib/python3.6/site-packages/keras/models.py\u001b[0m in \u001b[0;36mmodel_from_config\u001b[0;34m(config, custom_objects)\u001b[0m\n\u001b[1;32m    315\u001b[0m                         \u001b[0;34m'Maybe you meant to use '\u001b[0m\u001b[0;34m\u001b[0m\u001b[0m\n\u001b[1;32m    316\u001b[0m                         '`Sequential.from_config(config)`?')\n\u001b[0;32m--> 317\u001b[0;31m     \u001b[0;32mreturn\u001b[0m \u001b[0mlayer_module\u001b[0m\u001b[0;34m.\u001b[0m\u001b[0mdeserialize\u001b[0m\u001b[0;34m(\u001b[0m\u001b[0mconfig\u001b[0m\u001b[0;34m,\u001b[0m \u001b[0mcustom_objects\u001b[0m\u001b[0;34m=\u001b[0m\u001b[0mcustom_objects\u001b[0m\u001b[0;34m)\u001b[0m\u001b[0;34m\u001b[0m\u001b[0m\n\u001b[0m\u001b[1;32m    318\u001b[0m \u001b[0;34m\u001b[0m\u001b[0m\n\u001b[1;32m    319\u001b[0m \u001b[0;34m\u001b[0m\u001b[0m\n",
      "\u001b[0;32m/Users/gzq/anaconda/lib/python3.6/site-packages/keras/layers/__init__.py\u001b[0m in \u001b[0;36mdeserialize\u001b[0;34m(config, custom_objects)\u001b[0m\n\u001b[1;32m     53\u001b[0m                                     \u001b[0mmodule_objects\u001b[0m\u001b[0;34m=\u001b[0m\u001b[0mglobs\u001b[0m\u001b[0;34m,\u001b[0m\u001b[0;34m\u001b[0m\u001b[0m\n\u001b[1;32m     54\u001b[0m                                     \u001b[0mcustom_objects\u001b[0m\u001b[0;34m=\u001b[0m\u001b[0mcustom_objects\u001b[0m\u001b[0;34m,\u001b[0m\u001b[0;34m\u001b[0m\u001b[0m\n\u001b[0;32m---> 55\u001b[0;31m                                     printable_module_name='layer')\n\u001b[0m",
      "\u001b[0;32m/Users/gzq/anaconda/lib/python3.6/site-packages/keras/utils/generic_utils.py\u001b[0m in \u001b[0;36mdeserialize_keras_object\u001b[0;34m(identifier, module_objects, custom_objects, printable_module_name)\u001b[0m\n\u001b[1;32m    142\u001b[0m                 return cls.from_config(config['config'],\n\u001b[1;32m    143\u001b[0m                                        custom_objects=dict(list(_GLOBAL_CUSTOM_OBJECTS.items()) +\n\u001b[0;32m--> 144\u001b[0;31m                                                            list(custom_objects.items())))\n\u001b[0m\u001b[1;32m    145\u001b[0m             \u001b[0;32mwith\u001b[0m \u001b[0mCustomObjectScope\u001b[0m\u001b[0;34m(\u001b[0m\u001b[0mcustom_objects\u001b[0m\u001b[0;34m)\u001b[0m\u001b[0;34m:\u001b[0m\u001b[0;34m\u001b[0m\u001b[0m\n\u001b[1;32m    146\u001b[0m                 \u001b[0;32mreturn\u001b[0m \u001b[0mcls\u001b[0m\u001b[0;34m.\u001b[0m\u001b[0mfrom_config\u001b[0m\u001b[0;34m(\u001b[0m\u001b[0mconfig\u001b[0m\u001b[0;34m[\u001b[0m\u001b[0;34m'config'\u001b[0m\u001b[0;34m]\u001b[0m\u001b[0;34m)\u001b[0m\u001b[0;34m\u001b[0m\u001b[0m\n",
      "\u001b[0;32m/Users/gzq/anaconda/lib/python3.6/site-packages/keras/models.py\u001b[0m in \u001b[0;36mfrom_config\u001b[0;34m(cls, config, custom_objects)\u001b[0m\n\u001b[1;32m   1370\u001b[0m         \u001b[0mmodel\u001b[0m \u001b[0;34m=\u001b[0m \u001b[0mcls\u001b[0m\u001b[0;34m(\u001b[0m\u001b[0;34m)\u001b[0m\u001b[0;34m\u001b[0m\u001b[0m\n\u001b[1;32m   1371\u001b[0m         \u001b[0;32mfor\u001b[0m \u001b[0mconf\u001b[0m \u001b[0;32min\u001b[0m \u001b[0mconfig\u001b[0m\u001b[0;34m:\u001b[0m\u001b[0;34m\u001b[0m\u001b[0m\n\u001b[0;32m-> 1372\u001b[0;31m             \u001b[0mlayer\u001b[0m \u001b[0;34m=\u001b[0m \u001b[0mlayer_module\u001b[0m\u001b[0;34m.\u001b[0m\u001b[0mdeserialize\u001b[0m\u001b[0;34m(\u001b[0m\u001b[0mconf\u001b[0m\u001b[0;34m,\u001b[0m \u001b[0mcustom_objects\u001b[0m\u001b[0;34m=\u001b[0m\u001b[0mcustom_objects\u001b[0m\u001b[0;34m)\u001b[0m\u001b[0;34m\u001b[0m\u001b[0m\n\u001b[0m\u001b[1;32m   1373\u001b[0m             \u001b[0mmodel\u001b[0m\u001b[0;34m.\u001b[0m\u001b[0madd\u001b[0m\u001b[0;34m(\u001b[0m\u001b[0mlayer\u001b[0m\u001b[0;34m)\u001b[0m\u001b[0;34m\u001b[0m\u001b[0m\n\u001b[1;32m   1374\u001b[0m         \u001b[0;32mreturn\u001b[0m \u001b[0mmodel\u001b[0m\u001b[0;34m\u001b[0m\u001b[0m\n",
      "\u001b[0;32m/Users/gzq/anaconda/lib/python3.6/site-packages/keras/layers/__init__.py\u001b[0m in \u001b[0;36mdeserialize\u001b[0;34m(config, custom_objects)\u001b[0m\n\u001b[1;32m     53\u001b[0m                                     \u001b[0mmodule_objects\u001b[0m\u001b[0;34m=\u001b[0m\u001b[0mglobs\u001b[0m\u001b[0;34m,\u001b[0m\u001b[0;34m\u001b[0m\u001b[0m\n\u001b[1;32m     54\u001b[0m                                     \u001b[0mcustom_objects\u001b[0m\u001b[0;34m=\u001b[0m\u001b[0mcustom_objects\u001b[0m\u001b[0;34m,\u001b[0m\u001b[0;34m\u001b[0m\u001b[0m\n\u001b[0;32m---> 55\u001b[0;31m                                     printable_module_name='layer')\n\u001b[0m",
      "\u001b[0;32m/Users/gzq/anaconda/lib/python3.6/site-packages/keras/utils/generic_utils.py\u001b[0m in \u001b[0;36mdeserialize_keras_object\u001b[0;34m(identifier, module_objects, custom_objects, printable_module_name)\u001b[0m\n\u001b[1;32m    142\u001b[0m                 return cls.from_config(config['config'],\n\u001b[1;32m    143\u001b[0m                                        custom_objects=dict(list(_GLOBAL_CUSTOM_OBJECTS.items()) +\n\u001b[0;32m--> 144\u001b[0;31m                                                            list(custom_objects.items())))\n\u001b[0m\u001b[1;32m    145\u001b[0m             \u001b[0;32mwith\u001b[0m \u001b[0mCustomObjectScope\u001b[0m\u001b[0;34m(\u001b[0m\u001b[0mcustom_objects\u001b[0m\u001b[0;34m)\u001b[0m\u001b[0;34m:\u001b[0m\u001b[0;34m\u001b[0m\u001b[0m\n\u001b[1;32m    146\u001b[0m                 \u001b[0;32mreturn\u001b[0m \u001b[0mcls\u001b[0m\u001b[0;34m.\u001b[0m\u001b[0mfrom_config\u001b[0m\u001b[0;34m(\u001b[0m\u001b[0mconfig\u001b[0m\u001b[0;34m[\u001b[0m\u001b[0;34m'config'\u001b[0m\u001b[0;34m]\u001b[0m\u001b[0;34m)\u001b[0m\u001b[0;34m\u001b[0m\u001b[0m\n",
      "\u001b[0;32m/Users/gzq/anaconda/lib/python3.6/site-packages/keras/layers/wrappers.py\u001b[0m in \u001b[0;36mfrom_config\u001b[0;34m(cls, config, custom_objects)\u001b[0m\n\u001b[1;32m    106\u001b[0m         \u001b[0;32mfrom\u001b[0m \u001b[0;34m.\u001b[0m \u001b[0;32mimport\u001b[0m \u001b[0mdeserialize\u001b[0m \u001b[0;32mas\u001b[0m \u001b[0mdeserialize_layer\u001b[0m\u001b[0;34m\u001b[0m\u001b[0m\n\u001b[1;32m    107\u001b[0m         layer = deserialize_layer(config.pop('layer'),\n\u001b[0;32m--> 108\u001b[0;31m                                   custom_objects=custom_objects)\n\u001b[0m\u001b[1;32m    109\u001b[0m         \u001b[0;32mreturn\u001b[0m \u001b[0mcls\u001b[0m\u001b[0;34m(\u001b[0m\u001b[0mlayer\u001b[0m\u001b[0;34m,\u001b[0m \u001b[0;34m**\u001b[0m\u001b[0mconfig\u001b[0m\u001b[0;34m)\u001b[0m\u001b[0;34m\u001b[0m\u001b[0m\n\u001b[1;32m    110\u001b[0m \u001b[0;34m\u001b[0m\u001b[0m\n",
      "\u001b[0;32m/Users/gzq/anaconda/lib/python3.6/site-packages/keras/layers/__init__.py\u001b[0m in \u001b[0;36mdeserialize\u001b[0;34m(config, custom_objects)\u001b[0m\n\u001b[1;32m     53\u001b[0m                                     \u001b[0mmodule_objects\u001b[0m\u001b[0;34m=\u001b[0m\u001b[0mglobs\u001b[0m\u001b[0;34m,\u001b[0m\u001b[0;34m\u001b[0m\u001b[0m\n\u001b[1;32m     54\u001b[0m                                     \u001b[0mcustom_objects\u001b[0m\u001b[0;34m=\u001b[0m\u001b[0mcustom_objects\u001b[0m\u001b[0;34m,\u001b[0m\u001b[0;34m\u001b[0m\u001b[0m\n\u001b[0;32m---> 55\u001b[0;31m                                     printable_module_name='layer')\n\u001b[0m",
      "\u001b[0;32m/Users/gzq/anaconda/lib/python3.6/site-packages/keras/utils/generic_utils.py\u001b[0m in \u001b[0;36mdeserialize_keras_object\u001b[0;34m(identifier, module_objects, custom_objects, printable_module_name)\u001b[0m\n\u001b[1;32m    144\u001b[0m                                                            list(custom_objects.items())))\n\u001b[1;32m    145\u001b[0m             \u001b[0;32mwith\u001b[0m \u001b[0mCustomObjectScope\u001b[0m\u001b[0;34m(\u001b[0m\u001b[0mcustom_objects\u001b[0m\u001b[0;34m)\u001b[0m\u001b[0;34m:\u001b[0m\u001b[0;34m\u001b[0m\u001b[0m\n\u001b[0;32m--> 146\u001b[0;31m                 \u001b[0;32mreturn\u001b[0m \u001b[0mcls\u001b[0m\u001b[0;34m.\u001b[0m\u001b[0mfrom_config\u001b[0m\u001b[0;34m(\u001b[0m\u001b[0mconfig\u001b[0m\u001b[0;34m[\u001b[0m\u001b[0;34m'config'\u001b[0m\u001b[0;34m]\u001b[0m\u001b[0;34m)\u001b[0m\u001b[0;34m\u001b[0m\u001b[0m\n\u001b[0m\u001b[1;32m    147\u001b[0m         \u001b[0;32melse\u001b[0m\u001b[0;34m:\u001b[0m\u001b[0;34m\u001b[0m\u001b[0m\n\u001b[1;32m    148\u001b[0m             \u001b[0;31m# Then `cls` may be a function returning a class.\u001b[0m\u001b[0;34m\u001b[0m\u001b[0;34m\u001b[0m\u001b[0m\n",
      "\u001b[0;32m/Users/gzq/anaconda/lib/python3.6/site-packages/keras/engine/topology.py\u001b[0m in \u001b[0;36mfrom_config\u001b[0;34m(cls, config)\u001b[0m\n\u001b[1;32m   1269\u001b[0m             \u001b[0mA\u001b[0m \u001b[0mlayer\u001b[0m \u001b[0minstance\u001b[0m\u001b[0;34m.\u001b[0m\u001b[0;34m\u001b[0m\u001b[0m\n\u001b[1;32m   1270\u001b[0m         \"\"\"\n\u001b[0;32m-> 1271\u001b[0;31m         \u001b[0;32mreturn\u001b[0m \u001b[0mcls\u001b[0m\u001b[0;34m(\u001b[0m\u001b[0;34m**\u001b[0m\u001b[0mconfig\u001b[0m\u001b[0;34m)\u001b[0m\u001b[0;34m\u001b[0m\u001b[0m\n\u001b[0m\u001b[1;32m   1272\u001b[0m \u001b[0;34m\u001b[0m\u001b[0m\n\u001b[1;32m   1273\u001b[0m     \u001b[0;32mdef\u001b[0m \u001b[0mcount_params\u001b[0m\u001b[0;34m(\u001b[0m\u001b[0mself\u001b[0m\u001b[0;34m)\u001b[0m\u001b[0;34m:\u001b[0m\u001b[0;34m\u001b[0m\u001b[0m\n",
      "\u001b[0;32m/Users/gzq/anaconda/lib/python3.6/site-packages/keras/layers/core.py\u001b[0m in \u001b[0;36m__init__\u001b[0;34m(self, **kwargs)\u001b[0m\n\u001b[1;32m    481\u001b[0m \u001b[0;34m\u001b[0m\u001b[0m\n\u001b[1;32m    482\u001b[0m     \u001b[0;32mdef\u001b[0m \u001b[0m__init__\u001b[0m\u001b[0;34m(\u001b[0m\u001b[0mself\u001b[0m\u001b[0;34m,\u001b[0m \u001b[0;34m**\u001b[0m\u001b[0mkwargs\u001b[0m\u001b[0;34m)\u001b[0m\u001b[0;34m:\u001b[0m\u001b[0;34m\u001b[0m\u001b[0m\n\u001b[0;32m--> 483\u001b[0;31m         \u001b[0msuper\u001b[0m\u001b[0;34m(\u001b[0m\u001b[0mFlatten\u001b[0m\u001b[0;34m,\u001b[0m \u001b[0mself\u001b[0m\u001b[0;34m)\u001b[0m\u001b[0;34m.\u001b[0m\u001b[0m__init__\u001b[0m\u001b[0;34m(\u001b[0m\u001b[0;34m**\u001b[0m\u001b[0mkwargs\u001b[0m\u001b[0;34m)\u001b[0m\u001b[0;34m\u001b[0m\u001b[0m\n\u001b[0m\u001b[1;32m    484\u001b[0m         \u001b[0mself\u001b[0m\u001b[0;34m.\u001b[0m\u001b[0minput_spec\u001b[0m \u001b[0;34m=\u001b[0m \u001b[0mInputSpec\u001b[0m\u001b[0;34m(\u001b[0m\u001b[0mmin_ndim\u001b[0m\u001b[0;34m=\u001b[0m\u001b[0;36m3\u001b[0m\u001b[0;34m)\u001b[0m\u001b[0;34m\u001b[0m\u001b[0m\n\u001b[1;32m    485\u001b[0m \u001b[0;34m\u001b[0m\u001b[0m\n",
      "\u001b[0;32m/Users/gzq/anaconda/lib/python3.6/site-packages/keras/engine/topology.py\u001b[0m in \u001b[0;36m__init__\u001b[0;34m(self, **kwargs)\u001b[0m\n\u001b[1;32m    291\u001b[0m         \u001b[0;32mfor\u001b[0m \u001b[0mkwarg\u001b[0m \u001b[0;32min\u001b[0m \u001b[0mkwargs\u001b[0m\u001b[0;34m:\u001b[0m\u001b[0;34m\u001b[0m\u001b[0m\n\u001b[1;32m    292\u001b[0m             \u001b[0;32mif\u001b[0m \u001b[0mkwarg\u001b[0m \u001b[0;32mnot\u001b[0m \u001b[0;32min\u001b[0m \u001b[0mallowed_kwargs\u001b[0m\u001b[0;34m:\u001b[0m\u001b[0;34m\u001b[0m\u001b[0m\n\u001b[0;32m--> 293\u001b[0;31m                 \u001b[0;32mraise\u001b[0m \u001b[0mTypeError\u001b[0m\u001b[0;34m(\u001b[0m\u001b[0;34m'Keyword argument not understood:'\u001b[0m\u001b[0;34m,\u001b[0m \u001b[0mkwarg\u001b[0m\u001b[0;34m)\u001b[0m\u001b[0;34m\u001b[0m\u001b[0m\n\u001b[0m\u001b[1;32m    294\u001b[0m         \u001b[0mname\u001b[0m \u001b[0;34m=\u001b[0m \u001b[0mkwargs\u001b[0m\u001b[0;34m.\u001b[0m\u001b[0mget\u001b[0m\u001b[0;34m(\u001b[0m\u001b[0;34m'name'\u001b[0m\u001b[0;34m)\u001b[0m\u001b[0;34m\u001b[0m\u001b[0m\n\u001b[1;32m    295\u001b[0m         \u001b[0;32mif\u001b[0m \u001b[0;32mnot\u001b[0m \u001b[0mname\u001b[0m\u001b[0;34m:\u001b[0m\u001b[0;34m\u001b[0m\u001b[0m\n",
      "\u001b[0;31mTypeError\u001b[0m: ('Keyword argument not understood:', 'data_format')"
     ]
    }
   ],
   "source": [
    "model = keras.models.load_model('saved_models/rcnn_simple_lstm_ep300.hdf5')"
   ]
  },
  {
   "cell_type": "code",
   "execution_count": 40,
   "metadata": {
    "collapsed": true
   },
   "outputs": [],
   "source": [
    "def compute_confusion_matrix(model, x, y):\n",
    "    from sklearn.metrics import confusion_matrix\n",
    "    pred = model.predict_classes(x)\n",
    "    labels = y @ np.array([0,1,2,3,4,5]).T\n",
    "    cm = confusion_matrix(labels, pred)\n",
    "    return cm\n",
    "\n",
    "def plot_confusion_matrix(cm, classes,\n",
    "                          normalize=False,\n",
    "                          title='Confusion matrix',\n",
    "                          cmap=plt.cm.Blues):\n",
    "    \"\"\"\n",
    "    This function prints and plots the confusion matrix.\n",
    "    Normalization can be applied by setting `normalize=True`.\n",
    "    \"\"\"\n",
    "    import itertools\n",
    "    plt.figure(figsize=(6,6))\n",
    "    if normalize:\n",
    "        cm = cm.astype('float') / cm.sum(axis=1)[:, np.newaxis]\n",
    "        print(\"Normalized confusion matrix\")\n",
    "    else:\n",
    "        print('Confusion matrix, without normalization')\n",
    "\n",
    "    plt.imshow(cm, interpolation='nearest', cmap=cmap)\n",
    "    tick_marks = np.arange(len(classes))\n",
    "    plt.grid(False)\n",
    "    plt.xticks(tick_marks, classes, rotation=45)\n",
    "    plt.yticks(tick_marks, classes)\n",
    "\n",
    "    fmt = '.2f' if normalize else 'd'\n",
    "    thresh = cm.max() / 2.\n",
    "    for i, j in itertools.product(range(cm.shape[0]), range(cm.shape[1])):\n",
    "        plt.text(j, i, format(cm[i, j], fmt),\n",
    "                 horizontalalignment=\"center\",\n",
    "                 color=\"white\" if cm[i, j] > thresh else \"black\")\n",
    "\n",
    "    plt.tight_layout()\n",
    "    plt.ylabel('True label')\n",
    "    plt.xlabel('Predicted label')"
   ]
  },
  {
   "cell_type": "code",
   "execution_count": 41,
   "metadata": {},
   "outputs": [
    {
     "name": "stdout",
     "output_type": "stream",
     "text": [
      "Confusion matrix, without normalization\n"
     ]
    },
    {
     "data": {
      "image/png": "[encoded data removed]",
      "text/plain": [
       "<matplotlib.figure.Figure at 0x7f7b784dce48>"
      ]
     },
     "metadata": {},
     "output_type": "display_data"
    }
   ],
   "source": [
    "cm = compute_confusion_matrix(model, x_test, y_test)\n",
    "plot_confusion_matrix(cm, classes=['Asteroids', 'Constant', 'EmptyLigh', 'M33Cephei', 'RRLyrae', 'Supernova'])"
   ]
  },
  {
   "cell_type": "code",
   "execution_count": null,
   "metadata": {
    "collapsed": true
   },
   "outputs": [],
   "source": []
  }
 ],
 "metadata": {
  "kernelspec": {
   "display_name": "Python 3",
   "language": "python",
   "name": "python3"
  },
  "language_info": {
   "codemirror_mode": {
    "name": "ipython",
    "version": 3
   },
   "file_extension": ".py",
   "mimetype": "text/x-python",
   "name": "python",
   "nbconvert_exporter": "python",
   "pygments_lexer": "ipython3",
   "version": "3.6.1"
  }
 },
 "nbformat": 4,
 "nbformat_minor": 2
}
