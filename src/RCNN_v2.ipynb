{
 "cells": [
  {
   "cell_type": "code",
   "execution_count": 5,
   "metadata": {},
   "outputs": [],
   "source": [
    "import keras\n",
    "import keras.backend as K\n",
    "from keras.models import Sequential, Model\n",
    "from keras.layers import Input, Dense, Dropout, Activation, \\\n",
    "    Flatten, Lambda, LSTM, RepeatVector, TimeDistributed, Reshape, \\\n",
    "    Conv2D, MaxPooling2D, BatchNormalization, ConvLSTM2D, Bidirectional, Masking\n",
    "import keras.callbacks as Callbacks \n",
    "import numpy as np\n",
    "import h5py\n",
    "from sklearn.model_selection import train_test_split\n",
    "from sklearn.preprocessing import OneHotEncoder\n",
    "from keras.utils.np_utils import to_categorical\n",
    "from sklearn.preprocessing import scale\n",
    "from matplotlib import pyplot as plt"
   ]
  },
  {
   "cell_type": "code",
   "execution_count": 6,
   "metadata": {},
   "outputs": [],
   "source": [
    "from skimage.util import random_noise\n",
    "from skimage.transform import rotate\n",
    "from scipy import ndimage"
   ]
  },
  {
   "cell_type": "code",
   "execution_count": 7,
   "metadata": {},
   "outputs": [
    {
     "name": "stdout",
     "output_type": "stream",
     "text": [
      "data keys: ['images', 'labels', 'observation_days']\n"
     ]
    }
   ],
   "source": [
    "data = h5py.File(\"./data_sample.hdf5\", \"r\")\n",
    "print(\"data keys: \" + str(list(data.keys())))"
   ]
  },
  {
   "cell_type": "code",
   "execution_count": 8,
   "metadata": {},
   "outputs": [
    {
     "name": "stdout",
     "output_type": "stream",
     "text": [
      "image shape: (sample, x_size, y_size, epoch) = (72000, 21, 21, 48)\n"
     ]
    }
   ],
   "source": [
    "images = data[\"images\"][:]\n",
    "print(\"image shape: (sample, x_size, y_size, epoch) = \" + str(images.shape))\n",
    "labels = data[\"labels\"][:]"
   ]
  },
  {
   "cell_type": "code",
   "execution_count": 9,
   "metadata": {},
   "outputs": [],
   "source": [
    "def preprocess_img(images, percent=0.25):\n",
    "    \n",
    "    size, timestep, _, _ = images.shape\n",
    "    sample_size = int(size * percent)\n",
    "    \n",
    "    np.random.seed(209)\n",
    "    # pick the sequence with replacement\n",
    "    sample_seq_indices = np.random.choice(np.arange(sample_size), sample_size)\n",
    "    # pick the timestep\n",
    "    sample_inseq_indices = np.random.choice(np.arange(timestep), sample_size)\n",
    "    # pick the aug mean\n",
    "    sample_aug_type = np.random.choice(np.arange(4), sample_size)\n",
    "    \n",
    "    for idx in range(sample_size):\n",
    "        i, j, k = sample_seq_indices[idx], \\\n",
    "            sample_inseq_indices[idx], sample_aug_type[idx]\n",
    "        if k == 0: # rotate\n",
    "            images[i, j] = rotate(images[i, j], 45)\n",
    "        elif k == 1: # random noise\n",
    "            images[i, j] = random_noise(images[i, j], seed=209)\n",
    "        elif k == 2: # horizontal flip\n",
    "            images[i, j] = images[i, j][:,::-1]\n",
    "        else: # vertical flip\n",
    "            images[i, j] = images[i, j][::-1,:]"
   ]
  },
  {
   "cell_type": "code",
   "execution_count": 10,
   "metadata": {},
   "outputs": [],
   "source": [
    "def scale_images(images):\n",
    "    t_images = np.transpose(images, (0,3,1,2))\n",
    "    rt_images = t_images.reshape(72000*48, 21, 21)\n",
    "    max_per_img = np.max(rt_images.reshape(-1, 21*21), axis=1, keepdims=1)\n",
    "    scaled_images = rt_images.reshape(-1, 21*21) / max_per_img\n",
    "    scaled_images = scaled_images.reshape(-1, 21, 21).reshape(-1, 48, 21, 21)\n",
    "    return scaled_images"
   ]
  },
  {
   "cell_type": "code",
   "execution_count": 11,
   "metadata": {},
   "outputs": [],
   "source": [
    "def txt2digit(labels):\n",
    "    dic = {'Asteroids':0, 'Constant':1, 'EmptyLigh':2, 'M33Cephei':3, 'RRLyrae':4, 'Supernova':5}\n",
    "    labels_digit = np.array([dic[i] for i in labels])\n",
    "    return labels_digit"
   ]
  },
  {
   "cell_type": "code",
   "execution_count": 12,
   "metadata": {},
   "outputs": [],
   "source": [
    "def build_dataset(images, labels):\n",
    "    scaled_img = scale_images(images)\n",
    "    preprocess_img(scaled_img)\n",
    "    x = np.expand_dims(scaled_img, len(scaled_img.shape))\n",
    "    y = to_categorical(txt2digit(labels))\n",
    "    return x, y"
   ]
  },
  {
   "cell_type": "code",
   "execution_count": 13,
   "metadata": {},
   "outputs": [],
   "source": [
    "x, y = build_dataset(images, labels)\n",
    "x_train, x_test, y_train, y_test = train_test_split(x, y, test_size=0.2, random_state=209, stratify=y)"
   ]
  },
  {
   "cell_type": "code",
   "execution_count": 14,
   "metadata": {},
   "outputs": [],
   "source": [
    "def init_model(cnn_input_dim=21, cnn_output_dim=128, cnn_dropout=0.5,\n",
    "               rnn_hidden_dim=128, rnn_output_dim=64, num_classes=6, rnn_dropout=0.5, timestep=48):\n",
    "    \n",
    "    \n",
    "    intput_shape = (timestep, cnn_input_dim, cnn_input_dim, 1)\n",
    "    model = Sequential()\n",
    "    # CNN\n",
    "    model.add(TimeDistributed(Conv2D(32, (4,4), \\\n",
    "                     padding='same', activation='relu', kernel_initializer='uniform'), \\\n",
    "                              input_shape=intput_shape))\n",
    "    \n",
    "    model.add(BatchNormalization())\n",
    "    # model.add(Dropout(cnn_dropout))\n",
    "    \n",
    "    model.add(TimeDistributed(MaxPooling2D((3,3), strides=(1,1))))\n",
    "    model.add(TimeDistributed(Conv2D(64, (3,3), padding='same', activation='relu', kernel_initializer='uniform')))\n",
    "    \n",
    "    #model.add(BatchNormalization())\n",
    "    \n",
    "    model.add(TimeDistributed(Conv2D(64, (3,3), padding='same', activation='relu', kernel_initializer='uniform')))\n",
    "    \n",
    "    #model.add(BatchNormalization())\n",
    "    \n",
    "    model.add(TimeDistributed(MaxPooling2D((3,3), strides=(1,1))))\n",
    "    model.add(TimeDistributed(Conv2D(32, (3,3), padding='same', activation='relu', kernel_initializer='uniform')))\n",
    "    \n",
    "    #model.add(BatchNormalization())\n",
    "    \n",
    "    model.add(TimeDistributed(Conv2D(32, (3,3), padding='same', activation='relu', kernel_initializer='uniform')))\n",
    "    \n",
    "    #model.add(BatchNormalization())\n",
    "#     model.add(Dropout(cnn_dropout))\n",
    "    \n",
    "    model.add(TimeDistributed(Conv2D(32, (3,3), padding='same', activation='relu', kernel_initializer='uniform')))\n",
    "    #model.add(Dropout(cnn_dropout))\n",
    "    model.add(BatchNormalization())\n",
    "    model.add(TimeDistributed(MaxPooling2D((3,3), strides=(1,1))))\n",
    "    model.add(TimeDistributed(Flatten()))\n",
    "    model.add(TimeDistributed(Dense(128, activation='relu')))\n",
    "    \n",
    "    #model.add(BatchNormalization())\n",
    "#     model.add(Dropout(cnn_dropout))\n",
    "    \n",
    "    model.add(TimeDistributed(Dense(cnn_output_dim, activation='relu')))\n",
    "    \n",
    "    model.add(Bidirectional(LSTM(rnn_hidden_dim, dropout=rnn_dropout, return_sequences=True), \\\n",
    "                          input_shape=(timestep, cnn_output_dim)))\n",
    "    # repeat vector for timestep\n",
    "    #model.add(RepeatVector(timestep))\n",
    "    # decode\n",
    "    model.add(Bidirectional(LSTM(rnn_hidden_dim, dropout=rnn_dropout)))\n",
    "\n",
    "    model.add(Dense(num_classes, activation='softmax'))\n",
    "    \n",
    "    #out = rnn(cat)\n",
    "    \n",
    "    return model#Model(inputs=iL, outputs=out)"
   ]
  },
  {
   "cell_type": "code",
   "execution_count": 15,
   "metadata": {},
   "outputs": [],
   "source": [
    "def init_model3(cnn_input_dim=21, cnn_output_dim=128, cnn_dropout=0.5,\n",
    "               rnn_hidden_dim=128, rnn_output_dim=64, num_classes=6, rnn_dropout=0.5, timestep=48,\n",
    "               bidir_mode='concat'):\n",
    "    \n",
    "    input_shape = (timestep, cnn_input_dim, cnn_input_dim, 1, )\n",
    "    \n",
    "    model = Sequential()\n",
    "    \n",
    "    model.add(TimeDistributed(Masking(), input_shape=input_shape, name='Masking'))\n",
    "    model.add(TimeDistributed(Conv2D(48, (4,4), \\\n",
    "                     padding='same', activation='relu', kernel_initializer='uniform'), \\\n",
    "                              input_shape=input_shape, name='Conv2D_1'))\n",
    "    model.add(TimeDistributed(MaxPooling2D((3,3), strides=(1,1)), name='MaxPooling2D_1'))\n",
    "    \n",
    "    model.add(TimeDistributed(Conv2D(24, (3,3), padding='same', activation='relu', kernel_initializer='uniform'),\\\n",
    "                 name='Conv2D_2'))\n",
    "    model.add(TimeDistributed(MaxPooling2D((3,3), strides=(1,1)), name='MaxPooling2D_2'))\n",
    "\n",
    "    model.add(TimeDistributed(Conv2D(12, (3,3), padding='same', activation='relu', kernel_initializer='uniform'), \\\n",
    "                             name='Conv2D_3'))\n",
    "    model.add(TimeDistributed(MaxPooling2D((3,3), strides=(1,1)), name='MaxPooling2D_3'))\n",
    "    \n",
    "    model.add(TimeDistributed(Flatten(), name='Faltten'))\n",
    "\n",
    "    model.add(TimeDistributed(Dense(128, activation='relu'), name='Dense_128'))\n",
    "    model.add(Dropout(0.25))\n",
    "    \n",
    "    model.add(Bidirectional(LSTM(rnn_hidden_dim, dropout=rnn_dropout, return_sequences=True), \\\n",
    "                          input_shape=(timestep, cnn_output_dim), merge_mode=bidir_mode, name='Bi-directional_LSTM_1'))\n",
    "    model.add(Bidirectional(LSTM(rnn_hidden_dim, dropout=rnn_dropout), merge_mode=bidir_mode, name='Bi-directional_LSTM_2'))\n",
    "    model.add(Dense(6, activation='softmax', name='Output_Dense'))\n",
    "    \n",
    "    return model"
   ]
  },
  {
   "cell_type": "code",
   "execution_count": 16,
   "metadata": {},
   "outputs": [],
   "source": [
    "model = init_model3()"
   ]
  },
  {
   "cell_type": "code",
   "execution_count": 17,
   "metadata": {},
   "outputs": [
    {
     "name": "stdout",
     "output_type": "stream",
     "text": [
      "_________________________________________________________________\n",
      "Layer (type)                 Output Shape              Param #   \n",
      "=================================================================\n",
      "Masking (TimeDistributed)    (None, 48, 21, 21, 1)     0         \n",
      "_________________________________________________________________\n",
      "Conv2D_1 (TimeDistributed)   (None, 48, 21, 21, 48)    816       \n",
      "_________________________________________________________________\n",
      "MaxPooling2D_1 (TimeDistribu (None, 48, 19, 19, 48)    0         \n",
      "_________________________________________________________________\n",
      "Conv2D_2 (TimeDistributed)   (None, 48, 19, 19, 24)    10392     \n",
      "_________________________________________________________________\n",
      "MaxPooling2D_2 (TimeDistribu (None, 48, 17, 17, 24)    0         \n",
      "_________________________________________________________________\n",
      "Conv2D_3 (TimeDistributed)   (None, 48, 17, 17, 12)    2604      \n",
      "_________________________________________________________________\n",
      "MaxPooling2D_3 (TimeDistribu (None, 48, 15, 15, 12)    0         \n",
      "_________________________________________________________________\n",
      "Faltten (TimeDistributed)    (None, 48, 2700)          0         \n",
      "_________________________________________________________________\n",
      "Dense_128 (TimeDistributed)  (None, 48, 128)           345728    \n",
      "_________________________________________________________________\n",
      "dropout_1 (Dropout)          (None, 48, 128)           0         \n",
      "_________________________________________________________________\n",
      "Bi-directional_LSTM_1 (Bidir (None, 48, 256)           263168    \n",
      "_________________________________________________________________\n",
      "Bi-directional_LSTM_2 (Bidir (None, 256)               394240    \n",
      "_________________________________________________________________\n",
      "Output_Dense (Dense)         (None, 6)                 1542      \n",
      "=================================================================\n",
      "Total params: 1,018,490\n",
      "Trainable params: 1,018,490\n",
      "Non-trainable params: 0\n",
      "_________________________________________________________________\n"
     ]
    }
   ],
   "source": [
    "model.summary()"
   ]
  },
  {
   "cell_type": "code",
   "execution_count": 14,
   "metadata": {
    "collapsed": true
   },
   "outputs": [],
   "source": [
    "opt = keras.optimizers.Adam(lr=5*1e-4)\n",
    "model.compile(optimizer=opt,\n",
    "              loss='categorical_crossentropy',\n",
    "              metrics=['accuracy'])"
   ]
  },
  {
   "cell_type": "code",
   "execution_count": 15,
   "metadata": {
    "scrolled": true
   },
   "outputs": [
    {
     "name": "stdout",
     "output_type": "stream",
     "text": [
      "WARNING:tensorflow:From /home/zguo/anaconda3/lib/python3.6/site-packages/tensorflow/contrib/learn/python/learn/datasets/base.py:198: retry (from tensorflow.contrib.learn.python.learn.datasets.base) is deprecated and will be removed in a future version.\n",
      "Instructions for updating:\n",
      "Use the retry module or similar alternatives.\n"
     ]
    }
   ],
   "source": [
    "cpt = Callbacks.ModelCheckpoint(filepath='saved_models/rcnn_aug_ep100.hdf5', \n",
    "                      save_best_only=True, period=5, verbose=1)\n",
    "tensorboard = Callbacks.TensorBoard(log_dir='./logs')"
   ]
  },
  {
   "cell_type": "code",
   "execution_count": 13,
   "metadata": {
    "collapsed": true
   },
   "outputs": [],
   "source": [
    "model = keras.models.load_model('saved_models/rcnn_aug_ep100.hdf5')"
   ]
  },
  {
   "cell_type": "code",
   "execution_count": null,
   "metadata": {
    "collapsed": true
   },
   "outputs": [],
   "source": []
  },
  {
   "cell_type": "code",
   "execution_count": null,
   "metadata": {},
   "outputs": [
    {
     "name": "stdout",
     "output_type": "stream",
     "text": [
      "Train on 57600 samples, validate on 14400 samples\n",
      "Epoch 1/60\n",
      "57600/57600 [==============================] - 210s 4ms/step - loss: 0.4129 - acc: 0.8235 - val_loss: 0.4118 - val_acc: 0.8358\n",
      "Epoch 2/60\n",
      "57600/57600 [==============================] - 208s 4ms/step - loss: 0.4059 - acc: 0.8266 - val_loss: 0.3819 - val_acc: 0.8422\n",
      "Epoch 3/60\n",
      "57600/57600 [==============================] - 194s 3ms/step - loss: 0.4211 - acc: 0.8240 - val_loss: 0.3831 - val_acc: 0.8426\n",
      "Epoch 4/60\n",
      " 7000/57600 [==>...........................] - ETA: 2:48 - loss: 0.3936 - acc: 0.8376"
     ]
    }
   ],
   "source": [
    "history = model.fit(x, y, batch_size=100, epochs=60,\n",
    "          validation_split=0.2, shuffle=False, callbacks=[cpt, tensorboard])"
   ]
  },
  {
   "cell_type": "code",
   "execution_count": null,
   "metadata": {
    "collapsed": true
   },
   "outputs": [],
   "source": [
    "import json\n",
    "with open('saved_history/rcnn_aug_history.json', 'w') as outfile:  \n",
    "    json.dump(history.history, outfile)"
   ]
  },
  {
   "cell_type": "code",
   "execution_count": 183,
   "metadata": {
    "collapsed": true
   },
   "outputs": [],
   "source": [
    "tensorboard = Callbacks.TensorBoard(log_dir='./logs')"
   ]
  },
  {
   "cell_type": "code",
   "execution_count": 18,
   "metadata": {},
   "outputs": [],
   "source": [
    "mod_rcnn_bidir = keras.models.load_model('saved_models/rcnn_ep200.hdf5')"
   ]
  },
  {
   "cell_type": "code",
   "execution_count": 19,
   "metadata": {},
   "outputs": [
    {
     "name": "stdout",
     "output_type": "stream",
     "text": [
      "57600/57600 [==============================] - 128s 2ms/step\n",
      "Train:  [0.15347104696168876, 0.9448611137146751]\n",
      "14400/14400 [==============================] - 31s 2ms/step\n",
      "Test:  [0.15902564488351345, 0.9432638908425967]\n"
     ]
    }
   ],
   "source": [
    "print('Train: ', mod_rcnn_bidir.evaluate(x_train, y_train, batch_size=100))\n",
    "print('Test: ', mod_rcnn_bidir.evaluate(x_test, y_test, batch_size=100))"
   ]
  },
  {
   "cell_type": "code",
   "execution_count": null,
   "metadata": {
    "collapsed": true
   },
   "outputs": [],
   "source": [
    "with open('saved_history/simple_lstm_ep300/history.json', 'r') as f:\n",
    "    hist_ep100 = json.load(f)\n",
    "with open('saved_history/simple_lstm_ep300/history1.json', 'r') as f:\n",
    "    hist_ep200 = json.load(f)\n",
    "with open('saved_history/simple_lstm_ep300/history2.json', 'r') as f:\n",
    "    hist_ep300 = json.load(f)"
   ]
  }
 ],
 "metadata": {
  "kernelspec": {
   "display_name": "Python 3",
   "language": "python",
   "name": "python3"
  },
  "language_info": {
   "codemirror_mode": {
    "name": "ipython",
    "version": 3
   },
   "file_extension": ".py",
   "mimetype": "text/x-python",
   "name": "python",
   "nbconvert_exporter": "python",
   "pygments_lexer": "ipython3",
   "version": "3.6.4"
  }
 },
 "nbformat": 4,
 "nbformat_minor": 2
}
