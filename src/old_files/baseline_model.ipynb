{
 "cells": [
  {
   "cell_type": "code",
   "execution_count": 1,
   "metadata": {},
   "outputs": [
    {
     "name": "stderr",
     "output_type": "stream",
     "text": [
      "/home/weihang/anaconda3/lib/python3.6/site-packages/h5py/__init__.py:34: FutureWarning: Conversion of the second argument of issubdtype from `float` to `np.floating` is deprecated. In future, it will be treated as `np.float64 == np.dtype(float).type`.\n",
      "  from ._conv import register_converters as _register_converters\n",
      "Using TensorFlow backend.\n"
     ]
    }
   ],
   "source": [
    "import keras\n",
    "from keras.models import Sequential\n",
    "from keras.layers import Dense, Dropout, Activation, Flatten\n",
    "from keras.layers import Conv2D, MaxPooling2D\n",
    "import numpy as np\n",
    "import h5py\n",
    "from sklearn.model_selection import train_test_split\n",
    "from sklearn.preprocessing import OneHotEncoder"
   ]
  },
  {
   "cell_type": "code",
   "execution_count": 2,
   "metadata": {},
   "outputs": [
    {
     "data": {
      "text/plain": [
       "'/home/weihang/googledrive/Spring18/AC209/Final Project/AC209---final-project/src'"
      ]
     },
     "execution_count": 2,
     "metadata": {},
     "output_type": "execute_result"
    }
   ],
   "source": [
    "import os\n",
    "os.getcwd()"
   ]
  },
  {
   "cell_type": "code",
   "execution_count": 3,
   "metadata": {},
   "outputs": [
    {
     "name": "stdout",
     "output_type": "stream",
     "text": [
      "data keys: ['images', 'labels', 'observation_days']\n"
     ]
    }
   ],
   "source": [
    "data = h5py.File(\"../../../../../../dataset/data_sample.hdf5\", \"r\")\n",
    "print(\"data keys: \"+str(list(data.keys())))"
   ]
  },
  {
   "cell_type": "code",
   "execution_count": 8,
   "metadata": {},
   "outputs": [
    {
     "name": "stdout",
     "output_type": "stream",
     "text": [
      "image shape: (sample, x_size, y_size, epoch) = (72000, 21, 21, 48)\n"
     ]
    }
   ],
   "source": [
    "images = data[\"images\"][:]\n",
    "print(\"image shape: (sample, x_size, y_size, epoch) = \"+str(images.shape))\n",
    "labels = data[\"labels\"][:]"
   ]
  },
  {
   "cell_type": "code",
   "execution_count": 9,
   "metadata": {},
   "outputs": [],
   "source": [
    "dic = {'Asteroids':0, 'Constant':1, 'EmptyLigh':2, 'M33Cephei':3, 'RRLyrae':4, 'Supernova':5}\n",
    "labels_digit = [dic[i] for i in labels]\n",
    "\n",
    "labels_flatten = np.repeat(labels_digit, 48)\n",
    "enc = OneHotEncoder()\n",
    "labels_flatten_onehot = enc.fit_transform(labels_flatten.reshape(-1, 1))"
   ]
  },
  {
   "cell_type": "code",
   "execution_count": 10,
   "metadata": {},
   "outputs": [
    {
     "data": {
      "text/plain": [
       "(3456000, 6)"
      ]
     },
     "execution_count": 10,
     "metadata": {},
     "output_type": "execute_result"
    }
   ],
   "source": [
    "labels_flatten_onehot.shape"
   ]
  },
  {
   "cell_type": "code",
   "execution_count": 11,
   "metadata": {},
   "outputs": [
    {
     "data": {
      "text/plain": [
       "(3456000, 21, 21, 1)"
      ]
     },
     "execution_count": 11,
     "metadata": {},
     "output_type": "execute_result"
    }
   ],
   "source": [
    "flatten_data = images.transpose(0, 3, 1, 2).reshape((72000*48, 21, 21, 1))\n",
    "flatten_data.shape"
   ]
  },
  {
   "cell_type": "code",
   "execution_count": 23,
   "metadata": {},
   "outputs": [
    {
     "data": {
      "text/plain": [
       "(100000, 21, 21, 1)"
      ]
     },
     "execution_count": 23,
     "metadata": {},
     "output_type": "execute_result"
    }
   ],
   "source": [
    "sample_idx = np.random.choice(range(len(flatten_data)), 100000)\n",
    "sample_data = flatten_data[sample_idx]\n",
    "sample_labels = labels_flatten_onehot[sample_idx]\n",
    "sample_data.shape"
   ]
  },
  {
   "cell_type": "code",
   "execution_count": 24,
   "metadata": {},
   "outputs": [],
   "source": [
    "x_train, x_val, y_train, y_val = train_test_split(sample_data, sample_labels)"
   ]
  },
  {
   "cell_type": "code",
   "execution_count": 25,
   "metadata": {},
   "outputs": [
    {
     "data": {
      "text/plain": [
       "((75000, 21, 21, 1), (75000, 6))"
      ]
     },
     "execution_count": 25,
     "metadata": {},
     "output_type": "execute_result"
    }
   ],
   "source": [
    "x_train.shape, y_train.shape"
   ]
  },
  {
   "cell_type": "code",
   "execution_count": 29,
   "metadata": {},
   "outputs": [],
   "source": [
    "def init_model():\n",
    "    model = Sequential()\n",
    "    model.add(Conv2D(32, (4,4), input_shape=(21,21,1), padding='same', activation='relu', kernel_initializer='uniform'))\n",
    "    model.add(MaxPooling2D((3,3), strides=(1,1)))\n",
    "    model.add(Conv2D(64, (3,3), padding='same', activation='relu', kernel_initializer='uniform'))\n",
    "    model.add(Conv2D(64, (3,3), padding='same', activation='relu', kernel_initializer='uniform'))\n",
    "    model.add(MaxPooling2D((3,3), strides=(1,1)))\n",
    "    model.add(Conv2D(32, (3,3), padding='same', activation='relu', kernel_initializer='uniform'))\n",
    "    model.add(Conv2D(32, (3,3), padding='same', activation='relu', kernel_initializer='uniform'))\n",
    "    model.add(Conv2D(32, (3,3), padding='same', activation='relu', kernel_initializer='uniform'))\n",
    "    model.add(MaxPooling2D((3,3), strides=(1,1)))\n",
    "    model.add(Flatten())\n",
    "    model.add(Dense(256, activation='relu'))\n",
    "    model.add(Dropout(0.5))\n",
    "    model.add(Dense(128, activation='relu'))\n",
    "    model.add(Dropout(0.5))\n",
    "    model.add(Dense(6, activation='softmax'))\n",
    "\n",
    "    return model"
   ]
  },
  {
   "cell_type": "code",
   "execution_count": 33,
   "metadata": {},
   "outputs": [
    {
     "name": "stdout",
     "output_type": "stream",
     "text": [
      "_________________________________________________________________\n",
      "Layer (type)                 Output Shape              Param #   \n",
      "=================================================================\n",
      "conv2d_10 (Conv2D)           (None, 21, 21, 32)        544       \n",
      "_________________________________________________________________\n",
      "max_pooling2d_7 (MaxPooling2 (None, 19, 19, 32)        0         \n",
      "_________________________________________________________________\n",
      "conv2d_11 (Conv2D)           (None, 19, 19, 64)        18496     \n",
      "_________________________________________________________________\n",
      "conv2d_12 (Conv2D)           (None, 19, 19, 64)        36928     \n",
      "_________________________________________________________________\n",
      "max_pooling2d_8 (MaxPooling2 (None, 17, 17, 64)        0         \n",
      "_________________________________________________________________\n",
      "conv2d_13 (Conv2D)           (None, 17, 17, 32)        18464     \n",
      "_________________________________________________________________\n",
      "conv2d_14 (Conv2D)           (None, 17, 17, 32)        9248      \n",
      "_________________________________________________________________\n",
      "conv2d_15 (Conv2D)           (None, 17, 17, 32)        9248      \n",
      "_________________________________________________________________\n",
      "max_pooling2d_9 (MaxPooling2 (None, 15, 15, 32)        0         \n",
      "_________________________________________________________________\n",
      "flatten_4 (Flatten)          (None, 7200)              0         \n",
      "_________________________________________________________________\n",
      "dense_10 (Dense)             (None, 256)               1843456   \n",
      "_________________________________________________________________\n",
      "dropout_6 (Dropout)          (None, 256)               0         \n",
      "_________________________________________________________________\n",
      "dense_11 (Dense)             (None, 128)               32896     \n",
      "_________________________________________________________________\n",
      "dropout_7 (Dropout)          (None, 128)               0         \n",
      "_________________________________________________________________\n",
      "dense_12 (Dense)             (None, 6)                 774       \n",
      "=================================================================\n",
      "Total params: 1,970,054\n",
      "Trainable params: 1,970,054\n",
      "Non-trainable params: 0\n",
      "_________________________________________________________________\n",
      "None\n"
     ]
    }
   ],
   "source": [
    "model = init_model()\n",
    "print(model.summary())\n",
    "adam = keras.optimizers.Adam(lr=0.0001)#, decay=1e-6)\n",
    "model.compile(loss='categorical_crossentropy', optimizer=adam, metrics=['accuracy'])"
   ]
  },
  {
   "cell_type": "code",
   "execution_count": 34,
   "metadata": {},
   "outputs": [
    {
     "name": "stdout",
     "output_type": "stream",
     "text": [
      "Train on 75000 samples, validate on 25000 samples\n",
      "Epoch 1/20\n",
      "75000/75000 [==============================] - 12s 159us/step - loss: 1.7058 - acc: 0.2507 - val_loss: 1.4385 - val_acc: 0.3749\n",
      "Epoch 2/20\n",
      "75000/75000 [==============================] - 11s 150us/step - loss: 1.2715 - acc: 0.4071 - val_loss: 1.1192 - val_acc: 0.4429\n",
      "Epoch 3/20\n",
      "75000/75000 [==============================] - 11s 148us/step - loss: 1.1777 - acc: 0.4291 - val_loss: 1.0958 - val_acc: 0.4525\n",
      "Epoch 4/20\n",
      "75000/75000 [==============================] - 11s 150us/step - loss: 1.1495 - acc: 0.4376 - val_loss: 1.0769 - val_acc: 0.4535\n",
      "Epoch 5/20\n",
      "75000/75000 [==============================] - 11s 151us/step - loss: 1.1143 - acc: 0.4480 - val_loss: 1.0589 - val_acc: 0.4627\n",
      "Epoch 6/20\n",
      "75000/75000 [==============================] - 11s 151us/step - loss: 1.1110 - acc: 0.4485 - val_loss: 1.1027 - val_acc: 0.4519\n",
      "Epoch 7/20\n",
      "75000/75000 [==============================] - 11s 153us/step - loss: 1.0951 - acc: 0.4567 - val_loss: 1.0516 - val_acc: 0.4635\n",
      "Epoch 8/20\n",
      "75000/75000 [==============================] - 11s 150us/step - loss: 1.0810 - acc: 0.4613 - val_loss: 1.0434 - val_acc: 0.4644\n",
      "Epoch 9/20\n",
      "75000/75000 [==============================] - 11s 151us/step - loss: 1.0903 - acc: 0.4562 - val_loss: 1.0490 - val_acc: 0.4634\n",
      "Epoch 10/20\n",
      "75000/75000 [==============================] - 11s 151us/step - loss: 1.0608 - acc: 0.4674 - val_loss: 1.0395 - val_acc: 0.4656\n",
      "Epoch 11/20\n",
      "75000/75000 [==============================] - 11s 151us/step - loss: 1.0559 - acc: 0.4668 - val_loss: 1.0338 - val_acc: 0.4671\n",
      "Epoch 12/20\n",
      "75000/75000 [==============================] - 11s 151us/step - loss: 1.0590 - acc: 0.4665 - val_loss: 1.0292 - val_acc: 0.4705\n",
      "Epoch 13/20\n",
      "75000/75000 [==============================] - 11s 149us/step - loss: 1.0478 - acc: 0.4704 - val_loss: 1.0311 - val_acc: 0.4689\n",
      "Epoch 14/20\n",
      "75000/75000 [==============================] - 11s 149us/step - loss: 1.0479 - acc: 0.4690 - val_loss: 1.0295 - val_acc: 0.4734\n",
      "Epoch 15/20\n",
      "75000/75000 [==============================] - 11s 151us/step - loss: 1.0437 - acc: 0.4693 - val_loss: 1.0317 - val_acc: 0.4676\n",
      "Epoch 16/20\n",
      "75000/75000 [==============================] - 12s 155us/step - loss: 1.0385 - acc: 0.4740 - val_loss: 1.0230 - val_acc: 0.4721\n",
      "Epoch 17/20\n",
      "75000/75000 [==============================] - 12s 155us/step - loss: 1.0393 - acc: 0.4730 - val_loss: 1.0190 - val_acc: 0.4724\n",
      "Epoch 18/20\n",
      "75000/75000 [==============================] - 11s 153us/step - loss: 1.0344 - acc: 0.4739 - val_loss: 1.0299 - val_acc: 0.4679\n",
      "Epoch 19/20\n",
      "75000/75000 [==============================] - 12s 154us/step - loss: 1.0348 - acc: 0.4737 - val_loss: 1.0207 - val_acc: 0.4706\n",
      "Epoch 20/20\n",
      "75000/75000 [==============================] - 11s 151us/step - loss: 1.0321 - acc: 0.4733 - val_loss: 1.0306 - val_acc: 0.4680\n"
     ]
    },
    {
     "data": {
      "text/plain": [
       "<keras.callbacks.History at 0x7f187f1060f0>"
      ]
     },
     "execution_count": 34,
     "metadata": {},
     "output_type": "execute_result"
    }
   ],
   "source": [
    "batch_size = 128\n",
    "epochs = 20\n",
    "\n",
    "model.fit(x_train, y_train,\n",
    "              batch_size=batch_size,\n",
    "              epochs=epochs,\n",
    "              validation_data=(x_val, y_val),\n",
    "              shuffle=True)"
   ]
  }
 ],
 "metadata": {
  "kernelspec": {
   "display_name": "Python 3",
   "language": "python",
   "name": "python3"
  },
  "language_info": {
   "codemirror_mode": {
    "name": "ipython",
    "version": 3
   },
   "file_extension": ".py",
   "mimetype": "text/x-python",
   "name": "python",
   "nbconvert_exporter": "python",
   "pygments_lexer": "ipython3",
   "version": "3.6.1"
  }
 },
 "nbformat": 4,
 "nbformat_minor": 2
}
